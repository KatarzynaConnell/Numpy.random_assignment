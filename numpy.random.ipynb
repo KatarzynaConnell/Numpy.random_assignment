{
 "cells": [
  {
   "cell_type": "markdown",
   "metadata": {},
   "source": [
    "# The numpy.random package\n"
   ]
  },
  {
   "cell_type": "markdown",
   "metadata": {},
   "source": [
    "![Image of numbers](https://upload.wikimedia.org/wikipedia/commons/3/36/Two_red_dice_01.svg)"
   ]
  },
  {
   "cell_type": "markdown",
   "metadata": {},
   "source": [
    "### Numpy and numpy.random\n",
    "\n",
    "NumPy, short for Numerical Python, is the fundamental, specialist package for scientific computing in Python. It provides the data structures, algorithms and various libraries required for majority of scientific applications involving numerical data.\n",
    "\n",
    "Numpy keys features are:\n",
    "- **powerful N-dimensional array structure**, which allows efficient storage and manipulation of vectors, matrices, and higher-dimensional Dataset\n",
    "- **functions for performing element-wise computations** with arrays or mathematical operations between arrays\n",
    "- **a readable and efficient syntax** for operating on data, from simple element-wise arithrandom number generation to more sophisticated linear algebraic operations.\n",
    "- **tools to enable Python extensions and integrating C/C++ and Fortran code to access Numpy Data structures \n",
    "\n",
    "Numpy.random package is one of the key sub-packages of numpy. It offers wide variety of functions that are used to efficiently generate whole arrays of sample values from many kinds of probability distributions. This article will explore the following numpy.random functions:\n",
    "\n",
    "1. Simple random data\n",
    "2. Permutations\n",
    "3. Distributions\n",
    "4. Use of seeds in generating pseudorando numbers#### \n"
   ]
  },
  {
   "cell_type": "markdown",
   "metadata": {},
   "source": [
    "### Simple random data functions\n",
    "To generate random data for everyday purposes you can use simple random data functions. Lets explore the below list of simple random data functions:\n",
    "- **rand**\t        returns random values in a given shape.\n",
    "- **randn**\t        returns a sample (or samples) from the “standard normal” distribution.\n",
    "- **randint**\t        returns random integers from low (inclusive) to high (exclusive).\n",
    "- **random_integers**\treturns random integers of type np.int between low and high, inclusive *(depreciated function that we will not be discussed in details. It is recommended to use randint instead*.\n",
    "- **random_sample**\treturns random floats in the half-open intervals\n",
    "- **random**          returns random floats in the half-open interval from 0.0 - ---(inclusive) and 1.0 (not inclusive)\n",
    "- **ranf**            returns random floats in the half-open interval from 0.0 (inclusive) and 1.0 (not inclusive) \n",
    "- **sample**          returns random floats in the half-open interval from 0.0 (inclusive) and 1.0 (not inclusive) \n",
    "- **choice**          generates a random sample from a given 1-D array \n",
    "- **bytes**           returns random bytes\n"
   ]
  },
  {
   "cell_type": "markdown",
   "metadata": {},
   "source": [
    "###### Rand(d0, d1, …, dn)\n",
    "\n",
    "Rand function can be used to generate an array of random numbers between 0 (inclusive) and 1 (not included) from uniform distribution. \n",
    "The array (the number of raws, columns, depths) can be shaped as required."
   ]
  },
  {
   "cell_type": "markdown",
   "metadata": {},
   "source": [
    "To use any random function it is necessary to import numpy first. \n",
    "Lets define the shape of the array to 5 raws, 4 columns."
   ]
  },
  {
   "cell_type": "code",
   "execution_count": 11,
   "metadata": {},
   "outputs": [],
   "source": [
    "import numpy as np"
   ]
  },
  {
   "cell_type": "code",
   "execution_count": 23,
   "metadata": {
    "scrolled": true
   },
   "outputs": [],
   "source": [
    "x = np.random.rand(5,4)"
   ]
  },
  {
   "cell_type": "code",
   "execution_count": 21,
   "metadata": {},
   "outputs": [],
   "source": [
    "import matplotlib.pyplot as plt"
   ]
  },
  {
   "cell_type": "code",
   "execution_count": 24,
   "metadata": {},
   "outputs": [
    {
     "data": {
      "text/plain": [
       "array([[0.13190179, 0.31757075, 0.73828106, 0.95064273],\n",
       "       [0.64996654, 0.23757528, 0.95953655, 0.96655489],\n",
       "       [0.22333538, 0.15516399, 0.97231661, 0.41171759],\n",
       "       [0.94063733, 0.90586097, 0.36271801, 0.12577216],\n",
       "       [0.53585094, 0.36321554, 0.59693898, 0.0553237 ]])"
      ]
     },
     "execution_count": 24,
     "metadata": {},
     "output_type": "execute_result"
    }
   ],
   "source": [
    "x"
   ]
  },
  {
   "cell_type": "code",
   "execution_count": 33,
   "metadata": {},
   "outputs": [
    {
     "data": {
      "text/plain": [
       "([array([1., 1., 2., 0., 0., 1., 0., 0., 0., 0.]),\n",
       "  array([2., 0., 1., 1., 0., 0., 0., 1., 0., 0.]),\n",
       "  array([0., 1., 2., 1., 1., 0., 0., 0., 0., 0.]),\n",
       "  array([0., 0., 0., 0., 1., 1., 1., 0., 1., 1.])],\n",
       " array([0.11972634, 0.20165387, 0.28358139, 0.36550892, 0.44743645,\n",
       "        0.52936397, 0.6112915 , 0.69321903, 0.77514655, 0.85707408,\n",
       "        0.93900161]),\n",
       " <a list of 4 Lists of Patches objects>)"
      ]
     },
     "execution_count": 33,
     "metadata": {},
     "output_type": "execute_result"
    },
    {
     "data": {
      "image/png": "[encoded data removed]",
      "text/plain": [
       "<Figure size 432x288 with 1 Axes>"
      ]
     },
     "metadata": {
      "needs_background": "light"
     },
     "output_type": "display_data"
    }
   ],
   "source": [
    "plt.hist(x)"
   ]
  },
  {
   "cell_type": "markdown",
   "metadata": {},
   "source": [
    "The above bar chart represents the uniform distribution of the random numbers. "
   ]
  },
  {
   "cell_type": "markdown",
   "metadata": {},
   "source": [
    "If no number is entered in the argument, a single float will be generated:"
   ]
  },
  {
   "cell_type": "code",
   "execution_count": 48,
   "metadata": {},
   "outputs": [
    {
     "data": {
      "text/plain": [
       "0.1450725568256349"
      ]
     },
     "execution_count": 48,
     "metadata": {},
     "output_type": "execute_result"
    }
   ],
   "source": [
    "np.random.rand()"
   ]
  },
  {
   "cell_type": "markdown",
   "metadata": {},
   "source": [
    "If a single argument is given, that number of random floats will be produced: \n"
   ]
  },
  {
   "cell_type": "code",
   "execution_count": 34,
   "metadata": {},
   "outputs": [],
   "source": [
    "x = np.random.rand(50000)"
   ]
  },
  {
   "cell_type": "code",
   "execution_count": 35,
   "metadata": {},
   "outputs": [
    {
     "data": {
      "text/plain": [
       "array([0.24643556, 0.01000172, 0.79500181, ..., 0.88772799, 0.77553302,\n",
       "       0.02542593])"
      ]
     },
     "execution_count": 35,
     "metadata": {},
     "output_type": "execute_result"
    }
   ],
   "source": [
    "x"
   ]
  },
  {
   "cell_type": "code",
   "execution_count": 11,
   "metadata": {},
   "outputs": [],
   "source": [
    "import matplotlib.pyplot as plt"
   ]
  },
  {
   "cell_type": "code",
   "execution_count": 46,
   "metadata": {},
   "outputs": [
    {
     "data": {
      "text/plain": [
       "(array([5015., 4994., 5021., 4837., 5058., 4971., 4993., 5140., 4981.,\n",
       "        4990.]),\n",
       " array([3.00238840e-05, 1.00024950e-01, 2.00019876e-01, 3.00014802e-01,\n",
       "        4.00009728e-01, 5.00004654e-01, 5.99999580e-01, 6.99994506e-01,\n",
       "        7.99989432e-01, 8.99984358e-01, 9.99979284e-01]),\n",
       " <a list of 10 Patch objects>)"
      ]
     },
     "execution_count": 46,
     "metadata": {},
     "output_type": "execute_result"
    },
    {
     "data": {
      "image/png": "[encoded data removed]",
      "text/plain": [
       "<Figure size 432x288 with 1 Axes>"
      ]
     },
     "metadata": {
      "needs_background": "light"
     },
     "output_type": "display_data"
    }
   ],
   "source": [
    "plt.hist(x)"
   ]
  },
  {
   "cell_type": "markdown",
   "metadata": {},
   "source": [
    "The histograms indicates the 50000 numbers were evenly picked from the 10 intervals of .1s (roughly 5000 float per interval). \n",
    "So there are almost 5000 numbers between 0.0 and 0.1, almost 5000 of numbers from 0.1 to 0.2 etc. There is roughly 4800 numbers \n",
    "in the range from 0.3 and 0.4 so that is slightly less than for other intervals. \n",
    "The likeliness of a number being picked is even for all the numbers between 0 and 1 and this unifor distribution is visible here.\n"
   ]
  },
  {
   "cell_type": "markdown",
   "metadata": {},
   "source": [
    "###### randn(d0, d1, …, dn)"
   ]
  },
  {
   "cell_type": "markdown",
   "metadata": {},
   "source": [
    "Randn function generates a sample (or samples) from the “standard normal” distribution. In contrast to the rand function above, randn is not limited in range to 0.0 to 1.0. If no argumner is provided, the randomly provided single float is returned:"
   ]
  },
  {
   "cell_type": "code",
   "execution_count": 6,
   "metadata": {},
   "outputs": [
    {
     "data": {
      "text/plain": [
       "1.3025120637615226"
      ]
     },
     "execution_count": 6,
     "metadata": {},
     "output_type": "execute_result"
    }
   ],
   "source": [
    "import numpy as np\n",
    "np.random.randn()"
   ]
  },
  {
   "cell_type": "code",
   "execution_count": 7,
   "metadata": {},
   "outputs": [
    {
     "data": {
      "text/plain": [
       "array([-0.46943939,  1.11174513, -0.25052697])"
      ]
     },
     "execution_count": 7,
     "metadata": {},
     "output_type": "execute_result"
    }
   ],
   "source": [
    "np.random.randn(3)"
   ]
  },
  {
   "cell_type": "markdown",
   "metadata": {},
   "source": [
    "In the below example with the array shape of 3 depths, 4 rows and 2 columns (all positivie), \n",
    "randn returns floating-point samples from the standard normal distribution of mean 0 and variance 1."
   ]
  },
  {
   "cell_type": "code",
   "execution_count": 13,
   "metadata": {},
   "outputs": [
    {
     "data": {
      "text/plain": [
       "array([[[-0.0213045 ,  2.7677523 ],\n",
       "        [-0.49156166, -0.16214491],\n",
       "        [ 0.20246005,  0.2013815 ],\n",
       "        [-0.09379358, -1.35101912]],\n",
       "\n",
       "       [[-0.51278517,  0.85476978],\n",
       "        [ 0.34054741, -1.23672379],\n",
       "        [-2.19557902,  0.36216373],\n",
       "        [ 0.52244339,  0.3027349 ]],\n",
       "\n",
       "       [[-1.32561368, -0.23279854],\n",
       "        [ 1.36304208,  0.09802972],\n",
       "        [ 0.38309183, -0.43991366],\n",
       "        [-1.57808004, -1.10840726]]])"
      ]
     },
     "execution_count": 13,
     "metadata": {},
     "output_type": "execute_result"
    }
   ],
   "source": [
    "np.random.randn(3,4,2)"
   ]
  },
  {
   "cell_type": "markdown",
   "metadata": {},
   "source": [
    "###### numpy.random.randint(low, high, size, dtype)\n",
    "Randint function returns random integers from low (inclusive) to high (exclusive). The returned random integers are from the “discrete uniform” distribution of the specified dtype in the half-open interval. The size of the array and the desired dtype of the shape are optional.\n",
    "    \n",
    "Lets import numpy and generate 10 random integers from 1 (iclusive) to 8 (exclusive): "
   ]
  },
  {
   "cell_type": "code",
   "execution_count": 3,
   "metadata": {},
   "outputs": [],
   "source": [
    "import numpy as np"
   ]
  },
  {
   "cell_type": "code",
   "execution_count": 18,
   "metadata": {},
   "outputs": [
    {
     "data": {
      "text/plain": [
       "array([3, 4, 2, 6, 5, 5, 3, 1, 6, 6])"
      ]
     },
     "execution_count": 18,
     "metadata": {},
     "output_type": "execute_result"
    }
   ],
   "source": [
    "np.random.randint(1, 8, size=10)"
   ]
  },
  {
   "cell_type": "markdown",
   "metadata": {},
   "source": [
    "In the below example, if high is not set the results are from 0 (inclusive) to 5 (not inclusive). The size is set to (2, 5) to generate a 2 arrays of 5 integers:"
   ]
  },
  {
   "cell_type": "code",
   "execution_count": 19,
   "metadata": {},
   "outputs": [
    {
     "data": {
      "text/plain": [
       "array([[0, 2, 4, 1, 4],\n",
       "       [3, 4, 2, 3, 1]])"
      ]
     },
     "execution_count": 19,
     "metadata": {},
     "output_type": "execute_result"
    }
   ],
   "source": [
    "np.random.randint(5, size=(2, 5))"
   ]
  },
  {
   "cell_type": "markdown",
   "metadata": {},
   "source": [
    "###### numpy.random.random_sample\n",
    "Return random floats in the half-open interval [0.0,1.0).\n",
    "\n",
    "Results are from the “continuous uniform” distribution over the stated interval. \n",
    "To sample Unif[a, b), b > a multiply the output of random_sample by (b-a) and add a:\n",
    "\n",
    "(b - a) * random_sample() + a\n",
    "\n",
    "If the below example the default size is none, the single result is returned. "
   ]
  },
  {
   "cell_type": "code",
   "execution_count": 20,
   "metadata": {},
   "outputs": [
    {
     "data": {
      "text/plain": [
       "0.12709607551654645"
      ]
     },
     "execution_count": 20,
     "metadata": {},
     "output_type": "execute_result"
    }
   ],
   "source": [
    "np.random.random_sample()"
   ]
  },
  {
   "cell_type": "markdown",
   "metadata": {},
   "source": [
    "The type functions returns the type of random sample:"
   ]
  },
  {
   "cell_type": "code",
   "execution_count": 25,
   "metadata": {},
   "outputs": [
    {
     "data": {
      "text/plain": [
       "float"
      ]
     },
     "execution_count": 25,
     "metadata": {},
     "output_type": "execute_result"
    }
   ],
   "source": [
    "type(np.random.random_sample())"
   ]
  },
  {
   "cell_type": "code",
   "execution_count": null,
   "metadata": {},
   "outputs": [],
   "source": [
    "Below example shows hot to get an array of 7 random floats in the half-open interval [0.0, 1.0): "
   ]
  },
  {
   "cell_type": "code",
   "execution_count": 26,
   "metadata": {},
   "outputs": [
    {
     "data": {
      "text/plain": [
       "array([0.46231493, 0.93964765, 0.67224395, 0.03648209, 0.7325554 ,\n",
       "       0.06680693, 0.61326239])"
      ]
     },
     "execution_count": 26,
     "metadata": {},
     "output_type": "execute_result"
    }
   ],
   "source": [
    "np.random.random_sample((7,))"
   ]
  },
  {
   "cell_type": "markdown",
   "metadata": {},
   "source": [
    "Its possible to generate array of random floats in a certain shape using the formula:\n",
    "\n",
    "(b - a) * random_sample() + a\n",
    "\n",
    "For example 3 random numbers in 2 columns (3, 2) from 3(inlusive) to 10(exclusive) would require the below formula:"
   ]
  },
  {
   "cell_type": "code",
   "execution_count": 10,
   "metadata": {},
   "outputs": [
    {
     "data": {
      "text/plain": [
       "array([[6.49170499, 8.79158783],\n",
       "       [9.94660815, 5.40613667],\n",
       "       [6.53958947, 3.42196946]])"
      ]
     },
     "execution_count": 10,
     "metadata": {},
     "output_type": "execute_result"
    }
   ],
   "source": [
    "import numpy as np\n",
    "7 * np.random.random_sample((3, 2)) + 3"
   ]
  },
  {
   "cell_type": "markdown",
   "metadata": {},
   "source": [
    "###### numpy.random.choice(a, size=None, replace=True, p=None)\n",
    "Numpy.random.choice function is used to generate a random sample (uniform or non-uniorm) from a given 1-D array. \n",
    "\n",
    "Lets obtain uniform random sample of 10 numbers up to 10(exclusive) *(this unction is equivalent to np.random.randint(0,10,10))*:"
   ]
  },
  {
   "cell_type": "code",
   "execution_count": 19,
   "metadata": {},
   "outputs": [
    {
     "data": {
      "text/plain": [
       "array([8, 7, 6, 0, 6, 1, 1, 6, 7, 6])"
      ]
     },
     "execution_count": 19,
     "metadata": {},
     "output_type": "execute_result"
    }
   ],
   "source": [
    "import numpy as np\n",
    "x = np.random.choice(10, 10)"
   ]
  },
  {
   "cell_type": "code",
   "execution_count": null,
   "metadata": {},
   "outputs": [],
   "source": [
    "import matplotlib.pyplot as plt"
   ]
  },
  {
   "cell_type": "code",
   "execution_count": 35,
   "metadata": {},
   "outputs": [
    {
     "data": {
      "image/png": "[encoded data removed]",
      "text/plain": [
       "<Figure size 432x288 with 1 Axes>"
      ]
     },
     "metadata": {
      "needs_background": "light"
     },
     "output_type": "display_data"
    }
   ],
   "source": [
    "plt.plot([8, 7, 6, 0, 6, 1, 1, 6, 7, 6], \"r\")\n",
    "plt.show()"
   ]
  },
  {
   "cell_type": "code",
   "execution_count": null,
   "metadata": {},
   "outputs": [],
   "source": [
    "We can set the probability (p) for the numbers which will result in a non-uniform distribution:"
   ]
  },
  {
   "cell_type": "code",
   "execution_count": 38,
   "metadata": {},
   "outputs": [
    {
     "data": {
      "text/plain": [
       "array([2, 4, 4, 4, 8, 2, 4, 4, 4, 2], dtype=int64)"
      ]
     },
     "execution_count": 38,
     "metadata": {},
     "output_type": "execute_result"
    }
   ],
   "source": [
    "np.random.choice(10, 10, p=[0, 0, 0.1, 0.2, 0.4, 0, 0.1, 0, 0.1, 0.1])"
   ]
  },
  {
   "cell_type": "code",
   "execution_count": 41,
   "metadata": {},
   "outputs": [
    {
     "data": {
      "image/png": "[encoded data removed]",
      "text/plain": [
       "<Figure size 432x288 with 1 Axes>"
      ]
     },
     "metadata": {
      "needs_background": "light"
     },
     "output_type": "display_data"
    }
   ],
   "source": [
    "plt.plot([2, 4, 4, 4, 8, 2, 4, 4, 4, 2], \"r\")\n",
    "plt.show()"
   ]
  },
  {
   "cell_type": "markdown",
   "metadata": {},
   "source": [
    "Optionally we can generate a uniform random sample from np.arange(10) of size 10 without replacement. \n",
    "*This is equivalent to np.random.permutation(np.arange(10))[:10]*"
   ]
  },
  {
   "cell_type": "code",
   "execution_count": 42,
   "metadata": {},
   "outputs": [
    {
     "data": {
      "text/plain": [
       "array([9, 4, 8, 6, 7, 1, 5, 3, 0, 2])"
      ]
     },
     "execution_count": 42,
     "metadata": {},
     "output_type": "execute_result"
    }
   ],
   "source": [
    "np.random.choice(10, 10, replace=False)"
   ]
  },
  {
   "cell_type": "code",
   "execution_count": 43,
   "metadata": {},
   "outputs": [
    {
     "data": {
      "text/plain": [
       "<function matplotlib.pyplot.show(*args, **kw)>"
      ]
     },
     "execution_count": 43,
     "metadata": {},
     "output_type": "execute_result"
    },
    {
     "data": {
      "image/png": "[encoded data removed]",
      "text/plain": [
       "<Figure size 432x288 with 1 Axes>"
      ]
     },
     "metadata": {
      "needs_background": "light"
     },
     "output_type": "display_data"
    }
   ],
   "source": [
    "plt.plot([9, 4, 8, 6, 7, 1, 5, 3, 0, 2], \"r\")\n",
    "plt.show"
   ]
  },
  {
   "cell_type": "markdown",
   "metadata": {},
   "source": [
    "Furthermore, it is possible to generate a non-uniform random sample from np.arange(10) of size 10 without replacement:"
   ]
  },
  {
   "cell_type": "code",
   "execution_count": 46,
   "metadata": {},
   "outputs": [
    {
     "data": {
      "text/plain": [
       "array([8, 9, 3, 1, 0, 7, 5, 2, 6, 4])"
      ]
     },
     "execution_count": 46,
     "metadata": {},
     "output_type": "execute_result"
    }
   ],
   "source": [
    "np.random.choice(10, 10, replace=False, p=[0.1, 0.1, 0.1, 0.1, 0.1, 0.1, 0.1, 0.1, 0.1, 0.1])"
   ]
  },
  {
   "cell_type": "markdown",
   "metadata": {},
   "source": [
    "Lets see that on the plot:"
   ]
  },
  {
   "cell_type": "code",
   "execution_count": 48,
   "metadata": {},
   "outputs": [
    {
     "data": {
      "text/plain": [
       "[<matplotlib.lines.Line2D at 0x1763669f898>]"
      ]
     },
     "execution_count": 48,
     "metadata": {},
     "output_type": "execute_result"
    },
    {
     "data": {
      "image/png": "[encoded data removed]",
      "text/plain": [
       "<Figure size 432x288 with 1 Axes>"
      ]
     },
     "metadata": {
      "needs_background": "light"
     },
     "output_type": "display_data"
    }
   ],
   "source": [
    "plt.plot([8, 9, 3, 1, 0, 7, 5, 2, 6, 4], \"r\")"
   ]
  },
  {
   "cell_type": "markdown",
   "metadata": {},
   "source": [
    "All of the above random sample functions can be repeated with an arbitrary array-like instead of just integers. For instance:"
   ]
  },
  {
   "cell_type": "code",
   "execution_count": 50,
   "metadata": {},
   "outputs": [
    {
     "data": {
      "text/plain": [
       "array(['PW', 'Honeywell', 'Honeywell', 'PW', 'Honeywell'], dtype='<U9')"
      ]
     },
     "execution_count": 50,
     "metadata": {},
     "output_type": "execute_result"
    }
   ],
   "source": [
    "Aircraft_Engine_Manuf = ['PWC', 'GE', 'AEI', 'PW', 'Honeywell']\n",
    "\n",
    "np.random.choice(Aircraft_Engine_Manuf, 5, p=[0.2, 0.1, 0, 0.3, 0.4])"
   ]
  },
  {
   "cell_type": "code",
   "execution_count": null,
   "metadata": {},
   "outputs": [],
   "source": []
  },
  {
   "cell_type": "code",
   "execution_count": 19,
   "metadata": {},
   "outputs": [
    {
     "data": {
      "text/plain": [
       "array([-0.3735866 , -0.435615  , -0.801008  , -0.60507107, -0.54247921,\n",
       "       -0.36329885, -0.56070821, -0.17791033, -0.55403821, -0.64567953])"
      ]
     },
     "execution_count": 19,
     "metadata": {},
     "output_type": "execute_result"
    }
   ],
   "source": [
    "np.random.uniform(10,9,10) # first number is a lower boundry and second number is the upper boundry Random function the 1000 mean"
   ]
  },
  {
   "cell_type": "code",
   "execution_count": 20,
   "metadata": {},
   "outputs": [
    {
     "data": {
      "text/plain": [
       "(array([ 964., 1004.,  984., 1018.,  988., 1045.,  974., 1009., 1000.,\n",
       "        1014.]),\n",
       " array([9.47719015e-05, 1.00078999e-01, 2.00063226e-01, 3.00047453e-01,\n",
       "        4.00031680e-01, 5.00015907e-01, 6.00000134e-01, 6.99984361e-01,\n",
       "        7.99968588e-01, 8.99952815e-01, 9.99937042e-01]),\n",
       " <a list of 10 Patch objects>)"
      ]
     },
     "execution_count": 20,
     "metadata": {},
     "output_type": "execute_result"
    },
    {
     "data": {
      "image/png": "[encoded data removed]",
      "text/plain": [
       "<Figure size 432x288 with 1 Axes>"
      ]
     },
     "metadata": {
      "needs_background": "light"
     },
     "output_type": "display_data"
    }
   ],
   "source": [
    "plt.hist(x)"
   ]
  },
  {
   "cell_type": "code",
   "execution_count": 23,
   "metadata": {},
   "outputs": [],
   "source": [
    "x = np.random.normal(mu, sigma, 1000) # mean and standard deviation in the numpy.random.normal(loc=0.0, scale=1.0, size=None)"
   ]
  },
  {
   "cell_type": "code",
   "execution_count": 24,
   "metadata": {},
   "outputs": [
    {
     "data": {
      "text/plain": [
       "(array([  7.,  29.,  85., 166., 223., 234., 160.,  62.,  25.,   9.]),\n",
       " array([-0.30089586, -0.23984802, -0.17880017, -0.11775233, -0.05670448,\n",
       "         0.00434337,  0.06539121,  0.12643906,  0.18748691,  0.24853475,\n",
       "         0.3095826 ]),\n",
       " <a list of 10 Patch objects>)"
      ]
     },
     "execution_count": 24,
     "metadata": {},
     "output_type": "execute_result"
    },
    {
     "data": {
      "image/png": "[encoded data removed]",
      "text/plain": [
       "<Figure size 432x288 with 1 Axes>"
      ]
     },
     "metadata": {
      "needs_background": "light"
     },
     "output_type": "display_data"
    }
   ],
   "source": [
    "plt.hist(x) # bell shaved curved - number of generating number randomly with the value centred around 0"
   ]
  },
  {
   "cell_type": "code",
   "execution_count": null,
   "metadata": {},
   "outputs": [],
   "source": []
  }
 ],
 "metadata": {
  "kernelspec": {
   "display_name": "Python 3",
   "language": "python",
   "name": "python3"
  },
  "language_info": {
   "codemirror_mode": {
    "name": "ipython",
    "version": 3
   },
   "file_extension": ".py",
   "mimetype": "text/x-python",
   "name": "python",
   "nbconvert_exporter": "python",
   "pygments_lexer": "ipython3",
   "version": "3.7.3"
  }
 },
 "nbformat": 4,
 "nbformat_minor": 2
}
