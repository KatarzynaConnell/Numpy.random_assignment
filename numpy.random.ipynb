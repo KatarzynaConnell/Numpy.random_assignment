{
 "cells": [
  {
   "cell_type": "markdown",
   "metadata": {},
   "source": [
    "# THE NUMPY.RANDOM PACKAGE\n"
   ]
  },
  {
   "cell_type": "markdown",
   "metadata": {},
   "source": [
    "![Image of numbers](https://upload.wikimedia.org/wikipedia/commons/3/36/Two_red_dice_01.svg)"
   ]
  },
  {
   "cell_type": "markdown",
   "metadata": {},
   "source": [
    "## NUMPY AND NUMPY.RANDOM\n",
    "\n",
    "**NumPy**, short for Numerical Python, is the fundamental, specialist package for scientific computing in Python. It provides the data structures, algorithms and various libraries required for majority of scientific applications involving numerical data.\n",
    "\n",
    "Numpy keys features are:\n",
    "- **powerful N-dimensional array structure**, which allows efficient storage and manipulation of vectors, matrices, and higher-dimensional Dataset\n",
    "- **functions for performing element-wise computations** with arrays or mathematical operations between arrays\n",
    "- **a readable and efficient syntax** for operating on data, from simple element-wise arithrandom number generation to more sophisticated linear algebraic operations.\n",
    "- tools to enable Python extensions and integrating C/C++ and Fortran code to access Numpy Data structures \n",
    "\n",
    "**Numpy.random package** is one of the key sub-packages of numpy. It offers wide variety of functions that are used to efficiently generate whole arrays of sample values from many kinds of probability distributions. \n",
    "This article will explore the following numpy.random functions:\n",
    "\n",
    "1. Simple random data\n",
    "2. Permutations\n",
    "3. Distributions\n",
    "4. Use of seeds in generating pseudorando numbers#### \n"
   ]
  },
  {
   "cell_type": "markdown",
   "metadata": {},
   "source": [
    "## SIMPLE RANDOM DATA FUNCTIONS\n",
    "To generate random data for everyday purposes you can use simple random data functions. Lets explore the below list of simple random data functions:\n",
    "- **rand**\t        returns random values in a given shape.\n",
    "- **randn**\t        returns a sample (or samples) from the “standard normal” distribution.\n",
    "- **randint**\t        returns random integers from low (inclusive) to high (exclusive).\n",
    "- **random_integers**\treturns random integers of type np.int between low and high, inclusive\n",
    "- **random/random_sample/ranf**\treturn random floats in the half-open intervals from 0.0 (inclusive) and 1.0 (not inclusive) \n",
    "- **choice**          generates a random sample from a given 1-D array \n",
    "- **bytes**           returns random bytes\n"
   ]
  },
  {
   "cell_type": "markdown",
   "metadata": {},
   "source": [
    "### RAND \n",
    "*numpy.random.rand(d0, d1, ..., dn)*\n",
    "\n",
    "Rand function can be used to generate an array of random numbers between 0 (inclusive) and 1 (not included) from uniform distribution. \n",
    "The array (the number of raws, columns, depths) can be shaped as required."
   ]
  },
  {
   "cell_type": "markdown",
   "metadata": {},
   "source": [
    "To use any random function it is necessary to import numpy first. \n",
    "Lets define the shape of the array to 5 raws, 4 columns."
   ]
  },
  {
   "cell_type": "code",
   "execution_count": 11,
   "metadata": {},
   "outputs": [],
   "source": [
    "import numpy as np"
   ]
  },
  {
   "cell_type": "code",
   "execution_count": 23,
   "metadata": {
    "scrolled": true
   },
   "outputs": [],
   "source": [
    "x = np.random.rand(5,4)"
   ]
  },
  {
   "cell_type": "code",
   "execution_count": 21,
   "metadata": {},
   "outputs": [],
   "source": [
    "import matplotlib.pyplot as plt"
   ]
  },
  {
   "cell_type": "code",
   "execution_count": 24,
   "metadata": {},
   "outputs": [
    {
     "data": {
      "text/plain": [
       "array([[0.13190179, 0.31757075, 0.73828106, 0.95064273],\n",
       "       [0.64996654, 0.23757528, 0.95953655, 0.96655489],\n",
       "       [0.22333538, 0.15516399, 0.97231661, 0.41171759],\n",
       "       [0.94063733, 0.90586097, 0.36271801, 0.12577216],\n",
       "       [0.53585094, 0.36321554, 0.59693898, 0.0553237 ]])"
      ]
     },
     "execution_count": 24,
     "metadata": {},
     "output_type": "execute_result"
    }
   ],
   "source": [
    "x"
   ]
  },
  {
   "cell_type": "code",
   "execution_count": 33,
   "metadata": {},
   "outputs": [
    {
     "data": {
      "text/plain": [
       "([array([1., 1., 2., 0., 0., 1., 0., 0., 0., 0.]),\n",
       "  array([2., 0., 1., 1., 0., 0., 0., 1., 0., 0.]),\n",
       "  array([0., 1., 2., 1., 1., 0., 0., 0., 0., 0.]),\n",
       "  array([0., 0., 0., 0., 1., 1., 1., 0., 1., 1.])],\n",
       " array([0.11972634, 0.20165387, 0.28358139, 0.36550892, 0.44743645,\n",
       "        0.52936397, 0.6112915 , 0.69321903, 0.77514655, 0.85707408,\n",
       "        0.93900161]),\n",
       " <a list of 4 Lists of Patches objects>)"
      ]
     },
     "execution_count": 33,
     "metadata": {},
     "output_type": "execute_result"
    },
    {
     "data": {
      "image/png": "[encoded data removed]",
      "text/plain": [
       "<Figure size 432x288 with 1 Axes>"
      ]
     },
     "metadata": {
      "needs_background": "light"
     },
     "output_type": "display_data"
    }
   ],
   "source": [
    "plt.hist(x)"
   ]
  },
  {
   "cell_type": "markdown",
   "metadata": {},
   "source": [
    "The above bar chart represents the uniform distribution of the random numbers. "
   ]
  },
  {
   "cell_type": "markdown",
   "metadata": {},
   "source": [
    "If no number is entered in the argument, a single float will be generated:"
   ]
  },
  {
   "cell_type": "code",
   "execution_count": 48,
   "metadata": {},
   "outputs": [
    {
     "data": {
      "text/plain": [
       "0.1450725568256349"
      ]
     },
     "execution_count": 48,
     "metadata": {},
     "output_type": "execute_result"
    }
   ],
   "source": [
    "np.random.rand()"
   ]
  },
  {
   "cell_type": "markdown",
   "metadata": {},
   "source": [
    "If a single argument is given, that number of random floats will be produced: \n"
   ]
  },
  {
   "cell_type": "code",
   "execution_count": 15,
   "metadata": {},
   "outputs": [],
   "source": [
    "x = np.random.rand(50000)"
   ]
  },
  {
   "cell_type": "code",
   "execution_count": 16,
   "metadata": {},
   "outputs": [
    {
     "data": {
      "text/plain": [
       "array([0.62341147, 0.73772798, 0.07507579, ..., 0.28598297, 0.62803484,\n",
       "       0.44613252])"
      ]
     },
     "execution_count": 16,
     "metadata": {},
     "output_type": "execute_result"
    }
   ],
   "source": [
    "x"
   ]
  },
  {
   "cell_type": "code",
   "execution_count": 17,
   "metadata": {},
   "outputs": [
    {
     "data": {
      "text/plain": [
       "(array([4981., 5000., 5010., 4896., 5012., 5068., 4931., 5040., 5039.,\n",
       "        5023.]),\n",
       " array([1.85276487e-05, 1.00015121e-01, 2.00011715e-01, 3.00008309e-01,\n",
       "        4.00004903e-01, 5.00001496e-01, 5.99998090e-01, 6.99994684e-01,\n",
       "        7.99991277e-01, 8.99987871e-01, 9.99984465e-01]),\n",
       " <a list of 10 Patch objects>)"
      ]
     },
     "execution_count": 17,
     "metadata": {},
     "output_type": "execute_result"
    },
    {
     "data": {
      "image/png": "[encoded data removed]",
      "text/plain": [
       "<Figure size 432x288 with 1 Axes>"
      ]
     },
     "metadata": {
      "needs_background": "light"
     },
     "output_type": "display_data"
    }
   ],
   "source": [
    "import matplotlib.pyplot as plt\n",
    "plt.hist(x)"
   ]
  },
  {
   "cell_type": "markdown",
   "metadata": {},
   "source": [
    "The histograms indicates the 50000 numbers were evenly picked from the 10 intervals of .1s (roughly 5000 float per interval). \n",
    "So there are almost 5000 numbers between 0.0 and 0.1, almost 5000 of numbers from 0.1 to 0.2 etc. There is roughly 4800 numbers \n",
    "in the range from 0.3 and 0.4 so that is slightly less than for other intervals. \n",
    "The likeliness of a number being picked is even for all the numbers between 0 and 1 and this unifor distribution is visible here.\n"
   ]
  },
  {
   "cell_type": "markdown",
   "metadata": {},
   "source": [
    "### RANDN\n",
    "*numpy.random.randn(d0, d1, ..., dn)*\n",
    "\n",
    "Randn function generates a sample (or samples) from the “standard normal” distribution. In contrast to the rand function above, randn is not limited in range to 0.0 to 1.0. If no argumner is provided, the randomly provided single float is returned:"
   ]
  },
  {
   "cell_type": "code",
   "execution_count": 6,
   "metadata": {},
   "outputs": [
    {
     "data": {
      "text/plain": [
       "1.3025120637615226"
      ]
     },
     "execution_count": 6,
     "metadata": {},
     "output_type": "execute_result"
    }
   ],
   "source": [
    "import numpy as np\n",
    "np.random.randn()"
   ]
  },
  {
   "cell_type": "code",
   "execution_count": 7,
   "metadata": {},
   "outputs": [
    {
     "data": {
      "text/plain": [
       "array([-0.46943939,  1.11174513, -0.25052697])"
      ]
     },
     "execution_count": 7,
     "metadata": {},
     "output_type": "execute_result"
    }
   ],
   "source": [
    "np.random.randn(3)"
   ]
  },
  {
   "cell_type": "markdown",
   "metadata": {},
   "source": [
    "In the below example with the array shape of 3 depths, 4 rows and 2 columns (all positivie), \n",
    "randn returns floating-point samples from the standard normal distribution of mean 0 and variance 1."
   ]
  },
  {
   "cell_type": "code",
   "execution_count": 13,
   "metadata": {},
   "outputs": [
    {
     "data": {
      "text/plain": [
       "array([[[-0.0213045 ,  2.7677523 ],\n",
       "        [-0.49156166, -0.16214491],\n",
       "        [ 0.20246005,  0.2013815 ],\n",
       "        [-0.09379358, -1.35101912]],\n",
       "\n",
       "       [[-0.51278517,  0.85476978],\n",
       "        [ 0.34054741, -1.23672379],\n",
       "        [-2.19557902,  0.36216373],\n",
       "        [ 0.52244339,  0.3027349 ]],\n",
       "\n",
       "       [[-1.32561368, -0.23279854],\n",
       "        [ 1.36304208,  0.09802972],\n",
       "        [ 0.38309183, -0.43991366],\n",
       "        [-1.57808004, -1.10840726]]])"
      ]
     },
     "execution_count": 13,
     "metadata": {},
     "output_type": "execute_result"
    }
   ],
   "source": [
    "np.random.randn(3,4,2)"
   ]
  },
  {
   "cell_type": "markdown",
   "metadata": {},
   "source": [
    "### RANDINT\n",
    "*numpy.random.randint(low, high=None, size=None, dtype='l')*\n",
    "\n",
    "Randint function returns random integers from low (inclusive) to high (exclusive). The returned random integers are from the “discrete uniform” distribution of the specified dtype in the half-open interval. Optionally you can select the size of the array and the desired dtype.\n",
    "    \n",
    "Lets import numpy and generate 10 random integers from 1 (iclusive) to 8 (exclusive): "
   ]
  },
  {
   "cell_type": "code",
   "execution_count": 3,
   "metadata": {},
   "outputs": [],
   "source": [
    "import numpy as np"
   ]
  },
  {
   "cell_type": "code",
   "execution_count": 18,
   "metadata": {},
   "outputs": [
    {
     "data": {
      "text/plain": [
       "array([3, 4, 2, 6, 5, 5, 3, 1, 6, 6])"
      ]
     },
     "execution_count": 18,
     "metadata": {},
     "output_type": "execute_result"
    }
   ],
   "source": [
    "np.random.randint(1, 8, size=10)"
   ]
  },
  {
   "cell_type": "markdown",
   "metadata": {},
   "source": [
    "In the below example, if high is not set the results are from 0 (inclusive) to 5 (not inclusive). The size is set to (2, 5) to generate a 2 arrays of 5 integers:"
   ]
  },
  {
   "cell_type": "code",
   "execution_count": 19,
   "metadata": {},
   "outputs": [
    {
     "data": {
      "text/plain": [
       "array([[0, 2, 4, 1, 4],\n",
       "       [3, 4, 2, 3, 1]])"
      ]
     },
     "execution_count": 19,
     "metadata": {},
     "output_type": "execute_result"
    }
   ],
   "source": [
    "np.random.randint(5, size=(2, 5))"
   ]
  },
  {
   "cell_type": "markdown",
   "metadata": {},
   "source": [
    "### RANDOM_INTEGERS\n",
    "*numpy.random.random_integers(low, high=None, size=None)*\n",
    "\n",
    "Random_integers function returns random integers of type np.int between low and high, inclusive.\n",
    "\n",
    "This function has been deprecated and it is recommended to use randint function instead so it is not investigated in more detail. "
   ]
  },
  {
   "cell_type": "markdown",
   "metadata": {},
   "source": [
    "### RANDOM/RANDOM_SAMPLE/RANF\n",
    "*numpy.random.random_sample*(size=None)\n",
    "\n",
    "Random, random_sample and ranf are the same random sample functions which return random floats in the half-open interval [0.0,1.0).\n",
    "\n",
    "Results are from the “continuous uniform” distribution over the stated interval. \n",
    "To sample Unif[a, b), b > a multiply the output of random_sample by (b-a) and add a:\n",
    "\n",
    "(b - a) * random_sample() + a\n",
    "\n",
    "If the below example the default size is none, the single result is returned. "
   ]
  },
  {
   "cell_type": "code",
   "execution_count": 20,
   "metadata": {},
   "outputs": [
    {
     "data": {
      "text/plain": [
       "0.12709607551654645"
      ]
     },
     "execution_count": 20,
     "metadata": {},
     "output_type": "execute_result"
    }
   ],
   "source": [
    "np.random.random_sample()"
   ]
  },
  {
   "cell_type": "markdown",
   "metadata": {},
   "source": [
    "The type functions returns the type of random sample:"
   ]
  },
  {
   "cell_type": "code",
   "execution_count": 25,
   "metadata": {},
   "outputs": [
    {
     "data": {
      "text/plain": [
       "float"
      ]
     },
     "execution_count": 25,
     "metadata": {},
     "output_type": "execute_result"
    }
   ],
   "source": [
    "type(np.random.random_sample())"
   ]
  },
  {
   "cell_type": "markdown",
   "metadata": {},
   "source": [
    "Below example shows hot to get an array of 7 random floats in the half-open interval [0.0, 1.0): "
   ]
  },
  {
   "cell_type": "code",
   "execution_count": 26,
   "metadata": {},
   "outputs": [
    {
     "data": {
      "text/plain": [
       "array([0.46231493, 0.93964765, 0.67224395, 0.03648209, 0.7325554 ,\n",
       "       0.06680693, 0.61326239])"
      ]
     },
     "execution_count": 26,
     "metadata": {},
     "output_type": "execute_result"
    }
   ],
   "source": [
    "np.random.random_sample((7,))"
   ]
  },
  {
   "cell_type": "markdown",
   "metadata": {},
   "source": [
    "Its possible to generate array of random floats in a certain shape using the formula:\n",
    "\n",
    "**(b - a) * random_sample() + a**\n",
    "\n",
    "For example 3 random numbers in 2 columns (3, 2) from 3(inlusive) to 10(exclusive) would require the below formula:"
   ]
  },
  {
   "cell_type": "code",
   "execution_count": 10,
   "metadata": {},
   "outputs": [
    {
     "data": {
      "text/plain": [
       "array([[6.49170499, 8.79158783],\n",
       "       [9.94660815, 5.40613667],\n",
       "       [6.53958947, 3.42196946]])"
      ]
     },
     "execution_count": 10,
     "metadata": {},
     "output_type": "execute_result"
    }
   ],
   "source": [
    "import numpy as np\n",
    "7 * np.random.random_sample((3, 2)) + 3"
   ]
  },
  {
   "cell_type": "markdown",
   "metadata": {},
   "source": [
    "### CHOICE\n",
    "*numpy.random.choice(a, size=None, replace=True, p=None)*\n",
    "\n",
    "Numpy.random.choice function is used to generate a random sample (uniform or non-uniorm) from a given 1-D array. \n",
    "\n",
    "Lets obtain uniform random sample of 10 numbers up to 10(exclusive) *(this unction is equivalent to np.random.randint(0,10,10))*:"
   ]
  },
  {
   "cell_type": "code",
   "execution_count": 19,
   "metadata": {},
   "outputs": [
    {
     "data": {
      "text/plain": [
       "array([8, 7, 6, 0, 6, 1, 1, 6, 7, 6])"
      ]
     },
     "execution_count": 19,
     "metadata": {},
     "output_type": "execute_result"
    }
   ],
   "source": [
    "import numpy as np\n",
    "x = np.random.choice(10, 10)"
   ]
  },
  {
   "cell_type": "code",
   "execution_count": null,
   "metadata": {},
   "outputs": [],
   "source": [
    "import matplotlib.pyplot as plt"
   ]
  },
  {
   "cell_type": "code",
   "execution_count": 35,
   "metadata": {},
   "outputs": [
    {
     "data": {
      "image/png": "[encoded data removed]",
      "text/plain": [
       "<Figure size 432x288 with 1 Axes>"
      ]
     },
     "metadata": {
      "needs_background": "light"
     },
     "output_type": "display_data"
    }
   ],
   "source": [
    "plt.plot([8, 7, 6, 0, 6, 1, 1, 6, 7, 6], \"r\")\n",
    "plt.show()"
   ]
  },
  {
   "cell_type": "markdown",
   "metadata": {},
   "source": [
    "We can set the probability (p) for the numbers which will result in a non-uniform distribution:"
   ]
  },
  {
   "cell_type": "code",
   "execution_count": 38,
   "metadata": {},
   "outputs": [
    {
     "data": {
      "text/plain": [
       "array([2, 4, 4, 4, 8, 2, 4, 4, 4, 2], dtype=int64)"
      ]
     },
     "execution_count": 38,
     "metadata": {},
     "output_type": "execute_result"
    }
   ],
   "source": [
    "np.random.choice(10, 10, p=[0, 0, 0.1, 0.2, 0.4, 0, 0.1, 0, 0.1, 0.1])"
   ]
  },
  {
   "cell_type": "code",
   "execution_count": 41,
   "metadata": {},
   "outputs": [
    {
     "data": {
      "image/png": "[encoded data removed]",
      "text/plain": [
       "<Figure size 432x288 with 1 Axes>"
      ]
     },
     "metadata": {
      "needs_background": "light"
     },
     "output_type": "display_data"
    }
   ],
   "source": [
    "plt.plot([2, 4, 4, 4, 8, 2, 4, 4, 4, 2], \"r\")\n",
    "plt.show()"
   ]
  },
  {
   "cell_type": "markdown",
   "metadata": {},
   "source": [
    "Optionally we can generate a uniform random sample from np.arange(10) of size 10 without replacement. \n",
    "*This is equivalent to np.random.permutation(np.arange(10))[:10]*"
   ]
  },
  {
   "cell_type": "code",
   "execution_count": 42,
   "metadata": {},
   "outputs": [
    {
     "data": {
      "text/plain": [
       "array([9, 4, 8, 6, 7, 1, 5, 3, 0, 2])"
      ]
     },
     "execution_count": 42,
     "metadata": {},
     "output_type": "execute_result"
    }
   ],
   "source": [
    "np.random.choice(10, 10, replace=False)"
   ]
  },
  {
   "cell_type": "code",
   "execution_count": 43,
   "metadata": {},
   "outputs": [
    {
     "data": {
      "text/plain": [
       "<function matplotlib.pyplot.show(*args, **kw)>"
      ]
     },
     "execution_count": 43,
     "metadata": {},
     "output_type": "execute_result"
    },
    {
     "data": {
      "image/png": "[encoded data removed]",
      "text/plain": [
       "<Figure size 432x288 with 1 Axes>"
      ]
     },
     "metadata": {
      "needs_background": "light"
     },
     "output_type": "display_data"
    }
   ],
   "source": [
    "plt.plot([9, 4, 8, 6, 7, 1, 5, 3, 0, 2], \"r\")\n",
    "plt.show"
   ]
  },
  {
   "cell_type": "markdown",
   "metadata": {},
   "source": [
    "Furthermore, it is possible to generate a non-uniform random sample from np.arange(10) of size 10 without replacement:"
   ]
  },
  {
   "cell_type": "code",
   "execution_count": 46,
   "metadata": {},
   "outputs": [
    {
     "data": {
      "text/plain": [
       "array([8, 9, 3, 1, 0, 7, 5, 2, 6, 4])"
      ]
     },
     "execution_count": 46,
     "metadata": {},
     "output_type": "execute_result"
    }
   ],
   "source": [
    "np.random.choice(10, 10, replace=False, p=[0.1, 0.1, 0.1, 0.1, 0.1, 0.1, 0.1, 0.1, 0.1, 0.1])"
   ]
  },
  {
   "cell_type": "markdown",
   "metadata": {},
   "source": [
    "Lets see that on the plot:"
   ]
  },
  {
   "cell_type": "code",
   "execution_count": 48,
   "metadata": {},
   "outputs": [
    {
     "data": {
      "text/plain": [
       "[<matplotlib.lines.Line2D at 0x1763669f898>]"
      ]
     },
     "execution_count": 48,
     "metadata": {},
     "output_type": "execute_result"
    },
    {
     "data": {
      "image/png": "[encoded data removed]",
      "text/plain": [
       "<Figure size 432x288 with 1 Axes>"
      ]
     },
     "metadata": {
      "needs_background": "light"
     },
     "output_type": "display_data"
    }
   ],
   "source": [
    "plt.plot([8, 9, 3, 1, 0, 7, 5, 2, 6, 4], \"r\")"
   ]
  },
  {
   "cell_type": "markdown",
   "metadata": {},
   "source": [
    "All of the above random sample functions can be repeated with an arbitrary array-like instead of just integers. For instance:"
   ]
  },
  {
   "cell_type": "code",
   "execution_count": 50,
   "metadata": {},
   "outputs": [
    {
     "data": {
      "text/plain": [
       "array(['PW', 'Honeywell', 'Honeywell', 'PW', 'Honeywell'], dtype='<U9')"
      ]
     },
     "execution_count": 50,
     "metadata": {},
     "output_type": "execute_result"
    }
   ],
   "source": [
    "Aircraft_Engine_Manuf = ['PWC', 'GE', 'AEI', 'PW', 'Honeywell']\n",
    "\n",
    "np.random.choice(Aircraft_Engine_Manuf, 5, p=[0.2, 0.1, 0, 0.3, 0.4])"
   ]
  },
  {
   "cell_type": "markdown",
   "metadata": {},
   "source": [
    "### BYTES\n",
    "*numpy.random.bytes(length)*\n",
    "\n",
    "Numpy.random.bytes function returns random bytes in string format once the length (integer) is provided. For example:"
   ]
  },
  {
   "cell_type": "code",
   "execution_count": 3,
   "metadata": {},
   "outputs": [
    {
     "data": {
      "text/plain": [
       "b'\\x93\\x1d\\xd3\\xef\\xa0)\\x06g<\\xfe'"
      ]
     },
     "execution_count": 3,
     "metadata": {},
     "output_type": "execute_result"
    }
   ],
   "source": [
    "import numpy as np\n",
    "np.random.bytes(10)"
   ]
  },
  {
   "cell_type": "markdown",
   "metadata": {},
   "source": [
    "## PERMUTATIONS\n",
    "\n",
    "Permutation means either arranging the data in a set into a sequence or order or, in case when the set is already ordered, rearranging (reordering) its elements.\n",
    "Numpy.random package offers 2 permutation functions:\n",
    "- shuffle\n",
    "- permutation\n"
   ]
  },
  {
   "cell_type": "markdown",
   "metadata": {},
   "source": [
    "### SHUFFLE\n",
    "*(numpy.random.shuffle(x))*\n",
    "\n",
    "Shuffle function allows rearranging a sequence in-place (either an array or a list) by shuffling the elements.\n",
    "\n",
    "Lets get an array of number from 0 to 14:"
   ]
  },
  {
   "cell_type": "code",
   "execution_count": 10,
   "metadata": {},
   "outputs": [
    {
     "data": {
      "text/plain": [
       "array([ 0,  1,  2,  3,  4,  5,  6,  7,  8,  9, 10, 11, 12, 13, 14])"
      ]
     },
     "execution_count": 10,
     "metadata": {},
     "output_type": "execute_result"
    }
   ],
   "source": [
    "    import numpy as np\n",
    "    arr = np.arange(15)\n",
    "    arr"
   ]
  },
  {
   "cell_type": "markdown",
   "metadata": {},
   "source": [
    "Lets shuffle the order of the above array:"
   ]
  },
  {
   "cell_type": "code",
   "execution_count": 11,
   "metadata": {},
   "outputs": [
    {
     "data": {
      "text/plain": [
       "array([14, 13,  6,  1,  5,  9,  8,  4,  7, 11,  2,  3, 12,  0, 10])"
      ]
     },
     "execution_count": 11,
     "metadata": {},
     "output_type": "execute_result"
    }
   ],
   "source": [
    "np.random.shuffle(arr)\n",
    "arr"
   ]
  },
  {
   "cell_type": "markdown",
   "metadata": {},
   "source": [
    "We can change the shape of the array above into 5 rows and 3 columns (5,3):"
   ]
  },
  {
   "cell_type": "code",
   "execution_count": 15,
   "metadata": {},
   "outputs": [
    {
     "data": {
      "text/plain": [
       "array([[ 0,  1,  2],\n",
       "       [ 3,  4,  5],\n",
       "       [ 6,  7,  8],\n",
       "       [ 9, 10, 11],\n",
       "       [12, 13, 14]])"
      ]
     },
     "execution_count": 15,
     "metadata": {},
     "output_type": "execute_result"
    }
   ],
   "source": [
    "arr = np.arange(15).reshape((5, 3))\n",
    "arr"
   ]
  },
  {
   "cell_type": "markdown",
   "metadata": {},
   "source": [
    "Lets shuffle to content of these multi-dimensional arrays. The order of arrays will change but their contents remain the same:"
   ]
  },
  {
   "cell_type": "code",
   "execution_count": 16,
   "metadata": {},
   "outputs": [
    {
     "data": {
      "text/plain": [
       "array([[ 0,  1,  2],\n",
       "       [ 3,  4,  5],\n",
       "       [ 9, 10, 11],\n",
       "       [12, 13, 14],\n",
       "       [ 6,  7,  8]])"
      ]
     },
     "execution_count": 16,
     "metadata": {},
     "output_type": "execute_result"
    }
   ],
   "source": [
    "np.random.shuffle(arr)\n",
    "arr"
   ]
  },
  {
   "cell_type": "code",
   "execution_count": 17,
   "metadata": {},
   "outputs": [
    {
     "data": {
      "text/plain": [
       "array([[12, 13, 14],\n",
       "       [ 0,  1,  2],\n",
       "       [ 6,  7,  8],\n",
       "       [ 9, 10, 11],\n",
       "       [ 3,  4,  5]])"
      ]
     },
     "execution_count": 17,
     "metadata": {},
     "output_type": "execute_result"
    }
   ],
   "source": [
    "np.random.shuffle(arr)\n",
    "arr"
   ]
  },
  {
   "cell_type": "markdown",
   "metadata": {},
   "source": [
    "### PERMUTATION \n",
    "*numpy.random.permutation(x)*\n",
    "\n",
    "Permutation function allows randomly permute a sequence, or return a permuted range.\n",
    "\n",
    "For example, it is possible to randomly permute a number of 15 integers:"
   ]
  },
  {
   "cell_type": "code",
   "execution_count": 18,
   "metadata": {},
   "outputs": [
    {
     "data": {
      "text/plain": [
       "array([ 7, 10, 14,  4,  5,  2, 13,  0,  8,  3, 11,  1,  6, 12,  9])"
      ]
     },
     "execution_count": 18,
     "metadata": {},
     "output_type": "execute_result"
    }
   ],
   "source": [
    "np.random.permutation(15)"
   ]
  },
  {
   "cell_type": "markdown",
   "metadata": {},
   "source": [
    "We can then randomly shuffle the array of numbers from the above example:"
   ]
  },
  {
   "cell_type": "code",
   "execution_count": 19,
   "metadata": {},
   "outputs": [
    {
     "data": {
      "text/plain": [
       "array([ 1,  2,  0,  7, 13, 14,  8,  9, 10, 12,  4,  6,  5, 11,  3])"
      ]
     },
     "execution_count": 19,
     "metadata": {},
     "output_type": "execute_result"
    }
   ],
   "source": [
    "np.random.permutation([ 7, 10, 14,  4,  5,  2, 13,  0,  8,  3, 11,  1,  6, 12,  9])"
   ]
  },
  {
   "cell_type": "markdown",
   "metadata": {},
   "source": [
    "We can shape the array into 5 rows and 3 columns and randomly shuffle the elements along its first sequence:"
   ]
  },
  {
   "cell_type": "code",
   "execution_count": 21,
   "metadata": {},
   "outputs": [
    {
     "data": {
      "text/plain": [
       "array([[ 0,  1,  2],\n",
       "       [ 6,  7,  8],\n",
       "       [12, 13, 14],\n",
       "       [ 9, 10, 11],\n",
       "       [ 3,  4,  5]])"
      ]
     },
     "execution_count": 21,
     "metadata": {},
     "output_type": "execute_result"
    }
   ],
   "source": [
    "arr = np.arange(15).reshape((5,3))\n",
    "np.random.permutation(arr)"
   ]
  },
  {
   "cell_type": "markdown",
   "metadata": {},
   "source": [
    "## DISTRIBUTIONS\n",
    "Distributions are used in data science to model different types of phenomena. \n",
    "\n",
    "Lets invetigate some of the probability Distributions used in the numpy.random package. \n",
    "\n"
   ]
  },
  {
   "cell_type": "markdown",
   "metadata": {},
   "source": [
    "### UNIFORM DISTRIBUTION\n",
    "*numpy.random.uniform(low=0.0, high=1.0, size=None)*\n",
    "\n",
    "One of the simplest probability distribution in statistics is uniform distribution. It generates samples uniformly distributed over the half-open interval [low, high) so any of the values within the given interval is equally likely to be selected. It is a discrete distribution, which means that it takes a finite set of possible outcomes. Rolling a dice is an example of uniform distribution.\n",
    "                                                                                           \n",
    "For the purpose of this research, lets generate 4000 samples in the range from 1 (inclusive) to 5(exclusive) and later see how the uniform distribution is characterised on the histogram."
   ]
  },
  {
   "cell_type": "code",
   "execution_count": 49,
   "metadata": {},
   "outputs": [
    {
     "data": {
      "text/plain": [
       "array([4.2591619 , 2.26082495, 1.28006483, ..., 4.89824894, 2.51061365,\n",
       "       2.74846771])"
      ]
     },
     "execution_count": 49,
     "metadata": {},
     "output_type": "execute_result"
    }
   ],
   "source": [
    "import numpy as np\n",
    "x = np.random.uniform(1,5,4000)\n",
    "x"
   ]
  },
  {
   "cell_type": "code",
   "execution_count": 50,
   "metadata": {},
   "outputs": [
    {
     "data": {
      "image/png": "[encoded data removed]",
      "text/plain": [
       "<Figure size 432x288 with 1 Axes>"
      ]
     },
     "metadata": {
      "needs_background": "light"
     },
     "output_type": "display_data"
    }
   ],
   "source": [
    "import matplotlib.pyplot as plt\n",
    "plt.hist(x)\n",
    "plt.show()"
   ]
  },
  {
   "cell_type": "markdown",
   "metadata": {},
   "source": [
    "The histograms indicates the 4000 numbers were evenly picked from the 10 intervals of 0.4 (roughly 400 floats per interval). \n",
    "We see that there are 400 numbers between 1.0 and 1.4, almost 400 of numbers from 1.4 to 1.8, more than 400 floats from 1.2 to 1.3 and so on. There are roughly 380 number in the range from 3.0 to 3.4 so that is slightly less than for other intervals. \n",
    "The likeliness of a number being picked is even for all the numbers between 1 and 5(exclusive) and this even, uniform probability of distribution is visible on the plot.\n",
    "\n",
    "References: http://www.ucd.ie/msc/t4media/Uniform%20Distribution.pdf"
   ]
  },
  {
   "cell_type": "markdown",
   "metadata": {},
   "source": [
    "### NORMAL DISTRIBUTION\n",
    "*numpy.random.normal(loc=0.0, scale=1.0, size=None)*\n",
    "\n",
    "The most important probability distribution in statistics, because it fits many natural phenomena, is the normal distribution, aka the Gaussian distribution and the bell curve. This distribution describes how the values of a variable are distributed. Most of them are clustered around the central peak and the probability for values further away from the mean decrease equally in both directions. Extreme values in both tails of the distribution are similarly unlikely.\n",
    "\n",
    "Some of the examples that follow the normal distributions are blood pressure, height, measurement error, and IQ scores. \n",
    "\n",
    "References: https://statisticsbyjim.com/basics/normal-distribution/\n",
    "\n",
    "Lets explore the uniform distribution using the below examples.\n",
    "\n"
   ]
  },
  {
   "cell_type": "markdown",
   "metadata": {
    "collapsed": true
   },
   "source": [
    "Lets set the mean of the distribution to 0, scale (standard deviation of the distribution) to 0.2. I am getting a lot of number written in a abreviated format using e-nuber(01, 02, 03 etc). Below these numbers are also presented in the histogram."
   ]
  },
  {
   "cell_type": "code",
   "execution_count": 51,
   "metadata": {},
   "outputs": [
    {
     "data": {
      "text/plain": [
       "array([ 3.92917168e-02,  8.47425828e-02,  1.05534015e-01, -5.88971060e-02,\n",
       "       -1.49682924e-01, -1.30064550e-01, -3.85820899e-01,  1.37933344e-01,\n",
       "       -3.39009155e-01,  6.14042975e-02,  4.54940132e-02,  7.27483967e-02,\n",
       "       -1.57346837e-02, -3.84892440e-01,  9.90959596e-02,  5.61379618e-02,\n",
       "        2.67554818e-01, -5.13817308e-02, -8.42973065e-02,  1.11675891e-01,\n",
       "       -2.74552439e-01, -3.69538197e-01,  1.98278032e-01, -6.26248550e-02,\n",
       "       -4.28530457e-01, -6.23310911e-01,  4.70825186e-02, -4.49250490e-02,\n",
       "        9.85365285e-02,  3.53615621e-01,  6.69215269e-02, -2.51226396e-01,\n",
       "        5.58561245e-01,  4.77433575e-01, -1.20153693e-01,  2.92086347e-01,\n",
       "       -3.12573300e-01,  1.05270485e-01, -8.64450930e-02,  1.15400683e-01,\n",
       "       -3.74435460e-01, -2.33669168e-02, -3.28163841e-01,  7.89321394e-02,\n",
       "        1.83841513e-01,  2.57629176e-02, -8.84370579e-03, -4.58702402e-02,\n",
       "        3.29848660e-02,  4.36032863e-01,  8.53991722e-02,  2.52644890e-01,\n",
       "       -5.30760307e-02, -1.42956794e-01,  1.77813346e-01,  3.43886657e-02,\n",
       "       -3.11845629e-01,  1.35590393e-02, -3.06214315e-01, -2.69747047e-01,\n",
       "        2.28692725e-01, -4.84162730e-03, -8.65794938e-02, -6.53089422e-02,\n",
       "       -2.20266997e-01,  1.91847161e-02,  1.93333937e-04,  2.02405310e-01,\n",
       "       -1.98124064e-02, -2.92157969e-01, -1.21325144e-01, -9.20154316e-02,\n",
       "       -6.60906214e-02, -1.92448790e-01, -5.36806808e-02,  2.54963031e-01,\n",
       "       -5.09938727e-02,  2.79177844e-01,  2.74749467e-01, -3.32682542e-03,\n",
       "        5.16782851e-02, -1.18213501e-01, -1.63194578e-01,  4.05205997e-02,\n",
       "       -3.31753489e-01,  1.29142358e-01,  1.48619176e-02,  2.62477790e-02,\n",
       "        1.53696364e-01,  1.01659181e-01,  1.42193987e-01, -3.03110152e-02,\n",
       "        6.31746322e-02,  2.61503503e-01,  4.26174355e-01,  1.61142053e-01,\n",
       "        2.61056320e-01,  1.74190111e-02,  4.34994825e-02, -1.34504412e-01,\n",
       "       -3.50656540e-01, -2.10669428e-01, -9.40009907e-02,  2.16556974e-01,\n",
       "       -8.20244580e-02,  1.25848053e-01,  4.26277959e-01,  1.67480096e-02,\n",
       "        5.26377817e-01, -7.07756228e-02, -9.44166101e-02,  1.05233779e-01,\n",
       "        5.53986795e-03, -2.31430314e-01,  2.03866532e-01,  3.24575948e-02,\n",
       "        1.31306313e-01, -2.32627616e-01, -1.22922686e-01, -2.45284808e-02,\n",
       "       -9.62592508e-03,  3.53588677e-01,  3.32389611e-02,  1.09653804e-01,\n",
       "       -3.28753849e-01,  1.86849954e-01, -3.45501862e-01,  2.43728532e-02,\n",
       "        1.19525295e-01,  1.36381287e-01, -2.30958951e-01,  1.97870994e-01,\n",
       "        2.28145507e-02,  1.46744390e-01,  3.05076675e-02, -2.17585632e-01,\n",
       "       -3.76684025e-01,  1.78692373e-01, -2.87692011e-01,  4.26351827e-01,\n",
       "       -1.09340741e-01, -1.13424710e-01, -8.91853653e-02,  2.25521050e-02,\n",
       "       -2.29678941e-01, -6.16363339e-02,  1.88985323e-01,  1.16848338e-02,\n",
       "       -2.11714663e-01, -7.88028476e-02,  2.31251377e-01,  1.92141577e-01,\n",
       "       -8.16213167e-02, -9.19698016e-02,  2.02542921e-01,  3.13658443e-01,\n",
       "       -5.06126773e-01,  1.87739867e-01,  6.62888385e-01, -1.05454536e-01,\n",
       "       -1.08924856e-01,  4.04800234e-01, -1.09232352e-01,  2.00123193e-02,\n",
       "        1.83806209e-01,  5.10838251e-02,  1.23471409e-01, -5.54103607e-02,\n",
       "        6.06354932e-02, -7.59717259e-02, -7.50604791e-02,  1.84510641e-02,\n",
       "       -2.62030030e-01, -3.00415186e-02, -1.08631683e-02,  5.21240877e-01,\n",
       "       -3.54154510e-01, -2.35975112e-01,  1.69425139e-01,  5.06798204e-03,\n",
       "       -1.09873667e-01, -1.93744835e-01,  3.76809196e-01,  6.16620962e-02,\n",
       "        5.34591253e-02,  3.59797960e-01, -4.08928739e-02,  2.77164872e-01,\n",
       "       -2.39318093e-01,  4.66643186e-02, -5.90167366e-02, -4.27781392e-02,\n",
       "        5.63700455e-02,  1.17618079e-01,  6.36303874e-02, -2.48599408e-01,\n",
       "       -4.06380472e-01, -9.88618954e-02,  2.91493338e-01,  3.72325518e-02,\n",
       "        1.58297900e-01,  4.94492819e-02, -6.80377071e-02,  1.79555693e-01,\n",
       "        2.95152812e-01, -7.60300766e-02,  2.51691834e-01,  5.66298063e-03,\n",
       "       -8.96363789e-02,  3.20440167e-01, -5.49830288e-01, -3.09647979e-02,\n",
       "        1.24283794e-01,  6.65855719e-02, -6.49912783e-03, -1.53252199e-01,\n",
       "       -3.75987764e-02, -7.44788001e-02, -2.03209845e-01,  8.40746614e-02,\n",
       "        4.58224332e-02, -1.50929484e-01,  1.88414873e-01, -1.07229334e-01,\n",
       "       -1.23390834e-01, -1.24915420e-01, -2.18546718e-01, -2.07273861e-01,\n",
       "       -2.76219717e-01, -1.20233996e-01, -4.65990612e-02,  2.66379770e-01,\n",
       "       -1.26223686e-01,  4.08413773e-01,  1.26200871e-01, -3.96937853e-01,\n",
       "       -2.09773268e-01, -4.51450055e-03, -1.00138533e-01, -1.97209046e-01,\n",
       "        3.82300420e-01,  1.10799224e-01,  5.30031289e-02,  2.41751849e-01,\n",
       "        1.61956767e-01, -6.51897376e-02,  4.94889128e-02,  5.96943184e-02,\n",
       "        2.22320686e-01,  5.63364668e-02, -1.18569584e-01,  1.06117117e-01,\n",
       "        3.45169200e-03,  5.37941906e-02,  1.37283703e-01, -1.83648867e-01,\n",
       "        2.99731336e-01,  4.60441144e-02, -1.80041544e-01, -9.83223480e-02,\n",
       "       -1.40328380e-01,  1.68541277e-01, -4.52080184e-02,  1.02610505e-01,\n",
       "        2.30431197e-02, -1.92492784e-01, -1.67777933e-01,  1.03583343e-01,\n",
       "       -1.95292581e-02, -1.88582019e-01,  9.28647487e-02,  1.01623765e-01,\n",
       "        1.76825702e-01,  3.36594239e-01,  1.51470341e-01, -1.32012014e-01,\n",
       "       -2.40942817e-01, -5.79046430e-02,  2.70818246e-02, -3.14040660e-01,\n",
       "        2.72416837e-01, -6.77596166e-02,  1.67439248e-01, -7.29928649e-02,\n",
       "       -5.12459512e-02,  2.43115608e-02, -1.82154476e-01,  3.95265837e-01,\n",
       "        2.84517194e-01,  3.11524535e-01,  1.55165167e-01, -2.05524452e-01,\n",
       "        6.71330394e-02,  1.15528026e-02,  1.40762269e-01, -2.63910757e-01,\n",
       "        1.65629580e-01,  2.16144126e-01, -5.84872427e-02,  3.35665355e-01,\n",
       "        2.74359086e-02,  1.37662313e-01,  2.50175760e-01, -2.92212563e-01,\n",
       "        1.78857116e-01,  1.00213880e-01,  2.69674664e-01, -1.65888288e-01,\n",
       "       -7.86685125e-02, -2.06989920e-01, -1.54470232e-01, -8.49573118e-02,\n",
       "       -6.06044129e-02,  2.31205453e-01, -2.86814547e-03,  4.32406890e-02,\n",
       "       -3.30917803e-02,  1.32401871e-01,  5.95351536e-02, -3.38601108e-01,\n",
       "       -1.00528406e-01, -9.99626171e-02, -2.78362392e-01, -2.75323604e-01,\n",
       "       -7.37220104e-02,  3.74017035e-02,  3.24481884e-01,  2.05005740e-01,\n",
       "        6.38653292e-02, -1.64779033e-01,  1.16065581e-01,  1.13118735e-01,\n",
       "        9.17555506e-02, -3.97573992e-02, -1.04576339e-01,  9.75483352e-02,\n",
       "       -4.41267433e-01, -9.23450460e-02,  4.93887540e-01, -2.13081810e-01,\n",
       "        2.34584859e-01, -4.11162454e-02,  9.65693110e-02,  2.15179825e-01,\n",
       "       -1.14104120e-01,  1.09319868e-01,  2.28993338e-01, -1.89699445e-01,\n",
       "        1.21066208e-01, -2.03645118e-02, -2.50919292e-01,  2.74745744e-01,\n",
       "        3.50477435e-01,  2.18172228e-01,  1.27292187e-02, -2.25497809e-02,\n",
       "       -1.82533622e-01, -1.46029697e-01, -1.98387066e-01,  4.18935401e-02,\n",
       "        2.66727718e-01,  6.53470700e-02, -1.62644644e-01,  1.07107659e-01,\n",
       "        2.53567828e-01,  1.19406837e-02, -1.75773245e-02, -6.61998288e-02,\n",
       "       -7.12719407e-03, -1.58595082e-01,  2.95453690e-01,  2.38416526e-01,\n",
       "       -8.14702675e-02,  3.76059800e-01,  1.13707069e-02, -1.90839463e-01,\n",
       "       -1.40117342e-01,  3.30471447e-02,  1.96668701e-01, -2.50599161e-01,\n",
       "       -6.80480148e-03, -1.71081765e-01,  2.77374799e-02,  4.90385706e-01,\n",
       "        7.49332974e-02, -4.29743572e-02, -2.30197514e-01, -2.13847775e-01,\n",
       "        1.70871744e-01, -2.63843337e-02,  7.87154160e-02,  2.05972729e-02,\n",
       "        1.87326284e-01, -2.34533503e-01,  1.38981727e-01, -4.79683848e-01,\n",
       "        7.26367349e-02,  8.05116910e-02,  6.66460222e-02, -6.76116411e-02,\n",
       "        7.91106975e-02, -1.61886878e-01,  1.97680825e-01, -2.37662120e-01,\n",
       "       -9.87202942e-02, -2.11761094e-01,  2.71501247e-01,  1.46067984e-01,\n",
       "        1.83635405e-01, -2.04157094e-01,  1.20397017e-01,  1.36318221e-01,\n",
       "        1.32772205e-01, -7.47125724e-02, -1.00629873e-01, -2.40188558e-01,\n",
       "        2.16398235e-01, -3.67623630e-01, -5.68329638e-02,  4.03675520e-02,\n",
       "        2.11844858e-01,  1.81301410e-01, -4.79581033e-02, -2.29929179e-01,\n",
       "       -1.16224451e-02, -1.64084346e-01,  8.01687327e-02, -2.83079893e-01,\n",
       "       -1.05799137e-01, -6.50750390e-02, -2.69099223e-01, -5.09433047e-02,\n",
       "        1.17890422e-01, -3.42123782e-02,  7.55729195e-02,  2.78583941e-01,\n",
       "        3.27322702e-01,  1.93008952e-01,  1.28344318e-01,  2.48650020e-01,\n",
       "        1.51689130e-01, -6.29604570e-02,  9.46379796e-02, -1.89586988e-02,\n",
       "       -5.55569803e-02,  1.00780796e-01, -2.59658060e-02, -3.90637368e-02,\n",
       "       -3.26440141e-02, -1.22919685e-01,  1.70820325e-01,  9.54430702e-02,\n",
       "       -3.66854256e-01,  1.20136806e-01, -1.92927683e-01, -6.17123288e-01,\n",
       "       -1.98605155e-01, -1.77138294e-01,  3.97144841e-01, -1.36042259e-01,\n",
       "       -6.18222936e-02,  9.37720381e-02, -1.04278875e-01, -4.25216325e-01,\n",
       "        7.64847352e-02, -1.53934049e-01,  1.10869120e-01,  1.85085089e-01,\n",
       "        2.67542334e-01,  1.05992568e-01, -1.97141265e-01,  1.26221566e-01,\n",
       "       -1.54825924e-01,  4.22379590e-01, -2.60427380e-01, -2.10852204e-01,\n",
       "       -3.16666219e-02, -1.33326830e-01,  1.05438177e-01,  2.70806304e-01,\n",
       "       -5.02053778e-02, -7.04974703e-02,  9.20467230e-02,  7.04960821e-02,\n",
       "       -9.49496646e-03,  2.74370151e-02, -1.03768336e-01, -7.46180923e-02,\n",
       "       -1.21184425e-01, -7.35660001e-02, -2.32348703e-01, -1.70705475e-02,\n",
       "        1.33177389e-01,  2.07984056e-01, -3.45275928e-01, -1.37926739e-01,\n",
       "        2.63739303e-01, -1.83188826e-01,  8.61569487e-02, -5.08787215e-01,\n",
       "        3.54721130e-02, -1.21022712e-01,  1.38750481e-02,  7.96948761e-02,\n",
       "        8.76343711e-02, -5.00248246e-02,  5.44233670e-02, -3.17403688e-01,\n",
       "       -3.57267152e-02, -1.29070231e-01, -8.86686272e-03, -1.60787961e-02,\n",
       "        2.23039440e-01,  4.18773905e-01, -6.21616029e-04,  7.07643144e-02,\n",
       "        1.25663778e-01, -1.26531716e-01, -4.93808700e-01,  2.47761042e-01,\n",
       "        1.14189135e-01, -2.57302298e-02,  2.33992073e-01,  3.06193184e-01,\n",
       "        2.95426719e-01,  2.11249296e-01,  1.66427877e-01,  2.53009190e-02,\n",
       "       -2.93774616e-02,  5.49620929e-02, -2.57087023e-01, -1.57496310e-01,\n",
       "       -2.50800236e-01, -2.40500395e-01,  1.06503817e-01,  2.42131758e-01,\n",
       "        8.56021783e-02,  9.36501412e-02,  2.41994121e-01, -1.71652947e-01,\n",
       "       -7.82677434e-02, -6.34450504e-02, -3.38328253e-02, -2.66932819e-01,\n",
       "        4.67537978e-02, -2.17318433e-01, -1.75285919e-01, -2.26185556e-01,\n",
       "       -1.43094704e-01,  1.18645487e-01, -2.39344910e-02,  1.06714318e-01,\n",
       "        4.35087864e-02,  3.94232571e-01, -6.93611839e-02,  7.75326598e-02,\n",
       "       -2.37595133e-01,  1.08613907e-01,  4.32890303e-02,  3.40261005e-01,\n",
       "       -2.56776967e-03, -1.74712959e-01,  5.97282778e-03, -1.96480393e-01,\n",
       "       -3.76660614e-03,  6.57741471e-02, -3.28761743e-01, -6.97739415e-02,\n",
       "        8.42049354e-02,  2.82856253e-01,  2.52404092e-02,  5.65773728e-02,\n",
       "        1.92381852e-01,  1.84623361e-01, -5.11846717e-04, -1.03889341e-01,\n",
       "        2.40119153e-01,  2.91973389e-01,  1.07831876e-01,  2.23370647e-02,\n",
       "       -1.51857376e-01,  2.29793732e-01,  1.53585464e-01, -1.11118597e-01,\n",
       "       -1.16090789e-01,  5.98232834e-02,  1.20009742e-01, -1.15782808e-02,\n",
       "       -1.00149707e-01,  2.32678952e-02, -8.91214322e-02,  3.46266516e-01,\n",
       "        1.69502283e-01, -1.88109857e-01, -3.98879191e-01, -9.58150384e-02,\n",
       "       -2.23572886e-02,  9.99785184e-03,  2.37903377e-01,  3.27534058e-02,\n",
       "       -1.14448842e-01,  4.03688904e-01, -1.07663426e-01,  1.49176186e-01,\n",
       "       -2.95081492e-01, -2.01044816e-01,  2.54219516e-01, -1.22427248e-01,\n",
       "       -6.51256873e-02, -1.39614026e-01,  5.78672839e-02,  4.61294892e-02,\n",
       "       -2.12020424e-02,  1.49761440e-01, -1.60400183e-01, -7.68950566e-02,\n",
       "       -5.35163975e-04,  1.11886710e-01, -2.03806092e-01,  2.21922292e-01,\n",
       "       -4.08203115e-02, -3.03890948e-01, -1.67579799e-01, -2.15437872e-01,\n",
       "       -9.19294286e-02, -2.53170374e-02,  1.60162001e-01, -2.35633836e-02,\n",
       "       -2.82400939e-01, -1.86879405e-01,  2.09503809e-01,  3.10277887e-01,\n",
       "       -2.96756339e-02,  4.90544835e-02,  1.67698740e-01, -3.97263362e-02,\n",
       "        1.57520005e-01, -1.84681140e-01,  2.22306805e-01,  1.64497664e-01,\n",
       "        4.26473226e-01,  8.45846398e-02, -1.62272569e-02, -1.88190164e-01,\n",
       "        1.11798662e-01, -4.05533792e-01,  7.15070133e-02, -6.46567833e-02,\n",
       "       -1.86671151e-01,  2.71547138e-01,  6.81109333e-02,  1.35769460e-01,\n",
       "        7.29510797e-02, -1.88840939e-01, -2.25504271e-01, -8.22301088e-02,\n",
       "       -1.00802339e-01,  1.65770454e-01,  9.26315281e-02,  6.30195574e-02,\n",
       "       -1.87699522e-01,  9.40157749e-02,  2.11685218e-01, -1.95945390e-01,\n",
       "       -5.18270694e-02, -2.41689274e-01, -9.10377389e-03, -1.01265082e-01,\n",
       "       -7.96780743e-02, -2.75520872e-01, -1.00521403e-01, -1.25748576e-01,\n",
       "       -1.35895363e-01,  1.99222942e-01,  3.99003786e-01,  1.71168379e-01,\n",
       "       -4.19668204e-02, -1.11612317e-01, -1.33813676e-01, -1.04474644e-01,\n",
       "        1.92697837e-01, -5.79521302e-02,  5.21765771e-01,  1.80504751e-01,\n",
       "       -1.17813456e-01,  1.67593493e-01, -1.86464428e-01, -3.01993969e-01,\n",
       "       -2.68513131e-02,  3.91114843e-01, -2.80306090e-01, -9.63411373e-02,\n",
       "        2.08063078e-01, -2.37785563e-01, -1.57462624e-01,  4.43828976e-02,\n",
       "        7.76796325e-02, -1.69941508e-01,  5.54190633e-02,  1.79885591e-01,\n",
       "        1.91478173e-01,  1.11800138e-01, -1.84807123e-01, -2.23966340e-01,\n",
       "       -1.10760594e-01, -2.58534510e-01,  1.84065579e-01,  4.16757165e-03,\n",
       "       -1.12676419e-01,  1.06268867e-01, -1.41657475e-01,  2.35098338e-01,\n",
       "        2.25301629e-02, -1.43302821e-01,  1.74957160e-01, -2.84198031e-01,\n",
       "        5.31781629e-02, -4.04776788e-01, -1.16014744e-01, -1.29043363e-01,\n",
       "       -6.96151810e-02, -2.30074423e-01, -2.08358751e-01,  3.11019546e-01,\n",
       "        2.99932348e-01, -2.16571070e-02, -2.25605868e-01,  1.92272477e-01,\n",
       "        1.79537985e-01,  1.67216636e-01,  7.05694194e-02, -6.64671224e-02,\n",
       "       -1.04467471e-01, -5.24590394e-02,  2.13630421e-01,  8.61682038e-02,\n",
       "       -3.72307310e-01,  3.18207024e-01, -1.58551466e-01, -4.56394078e-01,\n",
       "       -2.03482133e-01, -9.10632857e-02,  5.32612553e-01, -4.80745458e-03,\n",
       "       -2.56152778e-02,  1.75088202e-02, -1.86455966e-01,  7.49474724e-02,\n",
       "        8.02636278e-02,  1.29745699e-02,  1.17342675e-01, -5.67445437e-03,\n",
       "        2.66029742e-01,  2.13667545e-02, -5.96353022e-01,  1.89797450e-01,\n",
       "       -3.54397903e-01, -6.44632953e-02, -1.87082730e-01, -7.88683135e-02,\n",
       "       -2.69803859e-01,  2.48326808e-01,  1.24207377e-01,  1.30575118e-01,\n",
       "       -2.27287237e-01, -1.66278472e-01, -3.18765617e-01,  4.15981965e-02,\n",
       "        2.21054398e-02, -1.05568415e-02, -3.93216130e-03, -1.14659242e-01,\n",
       "       -1.53917191e-01,  2.13246495e-01,  3.22778470e-01, -1.84506173e-01,\n",
       "        1.99774808e-01,  3.03262309e-01,  1.16123007e-01,  1.30684556e-01,\n",
       "        2.59413482e-02, -2.11567744e-01, -1.75243039e-01, -2.07439497e-02,\n",
       "        5.73342393e-02, -1.27702876e-02,  3.27590610e-01, -9.35595374e-02,\n",
       "       -2.78069063e-02,  5.96646007e-01, -2.71112551e-02,  3.37666483e-01,\n",
       "       -2.44921864e-01,  1.70488526e-01,  3.32031887e-01, -8.80394777e-02,\n",
       "        8.55016415e-02,  1.00932095e-01,  1.05378803e-01,  3.06956309e-01,\n",
       "       -1.80829112e-01,  1.37716130e-01, -1.34458758e-01,  3.36723860e-03,\n",
       "       -8.17716344e-02,  1.60975326e-01,  1.68414691e-01,  1.22375074e-01,\n",
       "       -9.76320349e-02,  1.27593760e-01,  2.95489156e-01,  9.39643812e-02,\n",
       "        2.90220857e-01,  4.53603068e-02,  9.81543440e-02,  3.41731740e-02,\n",
       "        2.71533036e-02, -1.69315999e-01,  2.99203243e-01,  6.32483339e-02,\n",
       "        1.18370754e-01, -3.34718443e-01, -3.14309394e-02, -8.13455716e-02,\n",
       "        2.13278949e-01, -3.86171528e-01,  2.25087011e-01,  5.43010752e-02,\n",
       "        1.78370230e-02,  1.90220285e-01,  5.42278144e-03,  2.84964225e-01,\n",
       "       -5.42683985e-02, -2.01761384e-02, -3.51697742e-02, -2.19931682e-01,\n",
       "       -2.63891768e-01, -4.98988993e-02, -9.62635566e-02,  1.22616881e-01,\n",
       "        1.44520909e-01, -3.00903119e-02,  2.42130881e-02, -1.32879276e-01,\n",
       "        2.24173968e-01,  2.14026769e-01,  1.76425391e-02, -7.56599482e-02,\n",
       "        4.98226653e-02,  1.98195565e-01,  2.47281502e-01,  5.70421531e-02,\n",
       "       -1.92975280e-01,  6.66923934e-02, -1.88097284e-01, -1.16765790e-01,\n",
       "        3.23076346e-01, -3.93519106e-02, -8.53415942e-02, -3.32576768e-02,\n",
       "       -2.56092089e-01, -5.09469755e-01,  2.42519644e-02, -3.68565053e-01,\n",
       "       -1.00205341e-01,  1.58577377e-01, -1.35029307e-01,  5.21055490e-02,\n",
       "        1.54068784e-02,  8.12861506e-02, -3.56138578e-01, -2.04428839e-01,\n",
       "        2.68959644e-01, -7.65507097e-02,  2.26367188e-01,  2.88065758e-01,\n",
       "        1.84458631e-01,  1.11104326e-01,  4.06406394e-02, -1.89879649e-02,\n",
       "        1.96793196e-01,  1.24479442e-01,  3.77192944e-01,  2.15212119e-01,\n",
       "       -2.40486945e-01, -2.01450768e-01, -2.41632834e-01,  1.92746228e-01,\n",
       "       -1.13886829e-01, -2.78402604e-02, -2.85478792e-01, -1.51391003e-01,\n",
       "        1.73625376e-02, -1.94842850e-01, -4.51521664e-01,  2.15234115e-01,\n",
       "       -1.57129641e-01, -2.48296179e-01, -1.42707094e-01,  1.27332389e-01,\n",
       "        2.79254138e-01,  1.89970645e-01,  2.49136870e-01, -2.19643626e-01,\n",
       "       -1.50111512e-01,  5.48675086e-03,  6.16338832e-02,  1.14805134e-01,\n",
       "        7.47278734e-02,  9.63440643e-02, -2.55986388e-01, -3.98655300e-02,\n",
       "       -1.73537146e-02,  2.80886128e-01,  9.57600383e-02, -6.79799502e-02,\n",
       "        5.87730261e-02, -1.54228259e-01,  1.38876269e-01, -3.09009558e-02,\n",
       "       -2.24593223e-01, -2.39595090e-01,  8.14795314e-02, -4.43541272e-02,\n",
       "       -1.19418608e-01, -1.14581223e-01,  1.38183152e-02,  2.79793088e-01,\n",
       "        2.40412726e-01,  3.67488527e-01,  1.09629500e-01, -1.99768281e-01,\n",
       "       -2.19711805e-01,  2.55361006e-01, -2.58343838e-01,  3.81884074e-01,\n",
       "       -1.21788788e-01,  4.91988936e-02, -3.14106807e-01,  1.76891988e-01,\n",
       "        4.44955978e-01,  3.56747581e-01, -2.08679410e-01,  3.91500830e-01,\n",
       "        2.43466769e-01,  9.42128303e-02,  1.37652566e-01,  3.10533491e-01,\n",
       "        2.79218664e-01,  3.46948412e-02,  8.57883340e-02, -1.53743662e-01,\n",
       "        2.21228936e-01,  5.74482831e-02, -6.89806548e-02, -1.02468149e-01,\n",
       "       -3.02597405e-01, -1.14045786e-01,  1.20583749e-02, -1.81625048e-01,\n",
       "       -2.19760099e-01,  1.17224765e-01,  1.57508114e-01, -3.69458087e-01,\n",
       "        2.08054934e-01,  1.81429942e-01,  2.58664575e-02,  1.80159996e-02,\n",
       "        2.28936493e-01, -1.46934070e-01,  6.34949325e-02,  1.36364703e-01,\n",
       "       -2.33349178e-01, -1.99212464e-02, -1.24142431e-01,  2.04203828e-02,\n",
       "        2.49379487e-01,  3.66459031e-02,  1.59522186e-02,  1.41769036e-01,\n",
       "        3.69582383e-02,  1.85539813e-01, -1.70049816e-02, -1.29830634e-01,\n",
       "        2.36929955e-01,  6.79752877e-03,  9.14057730e-02, -2.59340865e-01,\n",
       "       -1.27590823e-01, -5.01948424e-02, -3.50857297e-01, -1.69481490e-01,\n",
       "       -2.71159170e-01,  5.16710192e-02, -1.58717358e-01, -1.63815409e-01,\n",
       "        1.58219097e-01, -3.19541737e-01,  1.04553957e-01, -3.97615379e-01])"
      ]
     },
     "execution_count": 51,
     "metadata": {},
     "output_type": "execute_result"
    }
   ],
   "source": [
    "np.random.normal(0.0, 0.2, 1000)"
   ]
  },
  {
   "cell_type": "code",
   "execution_count": 50,
   "metadata": {},
   "outputs": [
    {
     "data": {
      "text/plain": [
       "(array([  17.,  112.,  598., 1667., 2781., 2723., 1506.,  492.,   94.,\n",
       "          10.]),\n",
       " array([-0.74131141, -0.59134056, -0.44136971, -0.29139887, -0.14142802,\n",
       "         0.00854282,  0.15851367,  0.30848451,  0.45845536,  0.60842621,\n",
       "         0.75839705]),\n",
       " <a list of 10 Patch objects>)"
      ]
     },
     "execution_count": 50,
     "metadata": {},
     "output_type": "execute_result"
    },
    {
     "data": {
      "image/png": "[encoded data removed]",
      "text/plain": [
       "<Figure size 432x288 with 1 Axes>"
      ]
     },
     "metadata": {
      "needs_background": "light"
     },
     "output_type": "display_data"
    }
   ],
   "source": [
    "x = np.random.normal(0.0, 0.2, 10000)\n",
    "plt.hist(x)"
   ]
  },
  {
   "cell_type": "markdown",
   "metadata": {},
   "source": [
    "Contrary to the Uniform distribution, the normal distribution is a bell shaved curved.\n",
    "We can see that hightest number of random numbers is centred around 0 (mean) and the huge proportion of the values between .6 and -.6. \n",
    "\n",
    "If I change the mean to 10, the highest number of random numbers is centred around the 10 and roughly 90% of the numbers will be centred from 9.5 to 10.5:"
   ]
  },
  {
   "cell_type": "code",
   "execution_count": 52,
   "metadata": {},
   "outputs": [
    {
     "data": {
      "text/plain": [
       "(array([1.000e+00, 3.000e+00, 1.010e+02, 5.960e+02, 2.047e+03, 3.268e+03,\n",
       "        2.785e+03, 1.001e+03, 1.840e+02, 1.400e+01]),\n",
       " array([ 8.99473784,  9.17195693,  9.34917603,  9.52639512,  9.70361422,\n",
       "         9.88083332, 10.05805241, 10.23527151, 10.4124906 , 10.5897097 ,\n",
       "        10.7669288 ]),\n",
       " <a list of 10 Patch objects>)"
      ]
     },
     "execution_count": 52,
     "metadata": {},
     "output_type": "execute_result"
    },
    {
     "data": {
      "image/png": "[encoded data removed]",
      "text/plain": [
       "<Figure size 432x288 with 1 Axes>"
      ]
     },
     "metadata": {
      "needs_background": "light"
     },
     "output_type": "display_data"
    }
   ],
   "source": [
    "x = np.random.normal(10, 0.2, 10000)\n",
    "plt.hist(x)"
   ]
  },
  {
   "cell_type": "markdown",
   "metadata": {},
   "source": [
    "The spread increseas with the increase in the standard deviation (scale). If I change the spread to 100, the majority of the numbers are centred around -300 and +300, as shown on the histogram below. This implies that numpy.random.normal is more likely to return samples lying close to the mean, rather than those far away.\n"
   ]
  },
  {
   "cell_type": "code",
   "execution_count": 49,
   "metadata": {},
   "outputs": [
    {
     "data": {
      "text/plain": [
       "(array([  12.,  103.,  550., 1629., 2753., 2726., 1577.,  528.,  108.,\n",
       "          14.]),\n",
       " array([-369.34883974, -293.46236244, -217.57588513, -141.68940783,\n",
       "         -65.80293052,   10.08354678,   85.97002408,  161.85650139,\n",
       "         237.74297869,  313.62945599,  389.5159333 ]),\n",
       " <a list of 10 Patch objects>)"
      ]
     },
     "execution_count": 49,
     "metadata": {},
     "output_type": "execute_result"
    },
    {
     "data": {
      "image/png": "[encoded data removed]",
      "text/plain": [
       "<Figure size 432x288 with 1 Axes>"
      ]
     },
     "metadata": {
      "needs_background": "light"
     },
     "output_type": "display_data"
    }
   ],
   "source": [
    "x = np.random.normal(10, 100, 10000)\n",
    "plt.hist(x)"
   ]
  },
  {
   "cell_type": "markdown",
   "metadata": {},
   "source": [
    "If size in the function is set to None and loc and scale are provided, , a single value is returned:"
   ]
  },
  {
   "cell_type": "code",
   "execution_count": 53,
   "metadata": {},
   "outputs": [
    {
     "data": {
      "text/plain": [
       "(array([0., 0., 0., 0., 0., 1., 0., 0., 0., 0.]),\n",
       " array([66.34147888, 66.44147888, 66.54147888, 66.64147888, 66.74147888,\n",
       "        66.84147888, 66.94147888, 67.04147888, 67.14147888, 67.24147888,\n",
       "        67.34147888]),\n",
       " <a list of 10 Patch objects>)"
      ]
     },
     "execution_count": 53,
     "metadata": {},
     "output_type": "execute_result"
    },
    {
     "data": {
      "image/png": "[encoded data removed]",
      "text/plain": [
       "<Figure size 432x288 with 1 Axes>"
      ]
     },
     "metadata": {
      "needs_background": "light"
     },
     "output_type": "display_data"
    }
   ],
   "source": [
    "x = np.random.normal(10, 100)\n",
    "plt.hist(x)"
   ]
  },
  {
   "cell_type": "code",
   "execution_count": null,
   "metadata": {},
   "outputs": [],
   "source": [
    "Lets set the values of mean and standard deviation to 0 and 0.1 and set the number of samples to 500.   "
   ]
  },
  {
   "cell_type": "code",
   "execution_count": 62,
   "metadata": {},
   "outputs": [
    {
     "data": {
      "text/plain": [
       "True"
      ]
     },
     "execution_count": 62,
     "metadata": {},
     "output_type": "execute_result"
    }
   ],
   "source": [
    "mn, std = 0, 0.1 # setting values for mean and standard deviation\n",
    "s = np.random.normal(mn, std, 500) # setting the samples to 500\n",
    "abs(mn - np.mean(s)) < 0.01 # verifying the mean\n",
    "abs(sigma - np.std(s, ddof=1)) < 0.01 # verifying the variance"
   ]
  },
  {
   "cell_type": "markdown",
   "metadata": {},
   "source": [
    "Next lets display the histogram of the samples, along with the probability density function:"
   ]
  },
  {
   "cell_type": "code",
   "execution_count": 63,
   "metadata": {},
   "outputs": [
    {
     "data": {
      "image/png": "[encoded data removed]",
      "text/plain": [
       "<Figure size 432x288 with 1 Axes>"
      ]
     },
     "metadata": {
      "needs_background": "light"
     },
     "output_type": "display_data"
    }
   ],
   "source": [
    "import matplotlib.pyplot as plt\n",
    "count, bins, ignored = plt.hist(s, 30, density=True)\n",
    "plt.plot(bins, 1/(sigma * np.sqrt(2 * np.pi)) *\n",
    "               np.exp( - (bins - mn)**2 / (2 * std**2) ),\n",
    "         linewidth=2, color='r')\n",
    "plt.show()"
   ]
  },
  {
   "cell_type": "code",
   "execution_count": null,
   "metadata": {},
   "outputs": [],
   "source": []
  }
 ],
 "metadata": {
  "kernelspec": {
   "display_name": "Python 3",
   "language": "python",
   "name": "python3"
  },
  "language_info": {
   "codemirror_mode": {
    "name": "ipython",
    "version": 3
   },
   "file_extension": ".py",
   "mimetype": "text/x-python",
   "name": "python",
   "nbconvert_exporter": "python",
   "pygments_lexer": "ipython3",
   "version": "3.7.3"
  }
 },
 "nbformat": 4,
 "nbformat_minor": 2
}
