{
 "cells": [
  {
   "cell_type": "markdown",
   "metadata": {},
   "source": [
    "# THE NUMPY.RANDOM PACKAGE\n"
   ]
  },
  {
   "cell_type": "markdown",
   "metadata": {},
   "source": [
    "![Image of numbers](https://upload.wikimedia.org/wikipedia/commons/3/36/Two_red_dice_01.svg)"
   ]
  },
  {
   "cell_type": "markdown",
   "metadata": {},
   "source": [
    "## NUMPY AND NUMPY.RANDOM\n",
    "\n",
    "**NumPy**, short for Numerical Python, is the fundamental, specialist package for scientific computing in Python. It provides the data structures, algorithms and various libraries required for majority of scientific applications involving numerical data.\n",
    "\n",
    "Numpy keys features are:\n",
    "- **powerful N-dimensional array structure**, which allows efficient storage and manipulation of vectors, matrices, and higher-dimensional Dataset\n",
    "- **functions for performing element-wise computations** with arrays or mathematical operations between arrays\n",
    "- **a readable and efficient syntax** for operating on data, from simple element-wise arithrandom number generation to more sophisticated linear algebraic operations.\n",
    "- tools to enable Python extensions and integrating C/C++ and Fortran code to access Numpy Data structures \n",
    "\n",
    "**Numpy.random package** is one of the key sub-packages of numpy. It offers wide variety of functions that are used to efficiently generate whole arrays of sample values from many kinds of probability distributions. \n",
    "This article will explore the following numpy.random functions:\n",
    "\n",
    "1. Simple random data\n",
    "2. Permutations\n",
    "3. Distributions\n",
    "4. Use of seeds in generating pseudorando numbers#### \n"
   ]
  },
  {
   "cell_type": "markdown",
   "metadata": {},
   "source": [
    "## SIMPLE RANDOM DATA FUNCTIONS\n",
    "To generate random data for everyday purposes you can use simple random data functions. Lets explore the below list of simple random data functions:\n",
    "- **rand**\t        returns random values in a given shape.\n",
    "- **randn**\t        returns a sample (or samples) from the “standard normal” distribution.\n",
    "- **randint**\t        returns random integers from low (inclusive) to high (exclusive).\n",
    "- **random_integers**\treturns random integers of type np.int between low and high, inclusive\n",
    "- **random/random_sample/ranf**\treturn random floats in the half-open intervals from 0.0 (inclusive) and 1.0 (not inclusive) \n",
    "- **choice**          generates a random sample from a given 1-D array \n",
    "- **bytes**           returns random bytes\n"
   ]
  },
  {
   "cell_type": "markdown",
   "metadata": {},
   "source": [
    "### RAND \n",
    "*numpy.random.rand(d0, d1, ..., dn)*\n",
    "\n",
    "Rand function can be used to generate an array of random numbers between 0 (inclusive) and 1 (not included) from uniform distribution. \n",
    "The array (the number of raws, columns, depths) can be shaped as required."
   ]
  },
  {
   "cell_type": "markdown",
   "metadata": {},
   "source": [
    "To use any random function it is necessary to import numpy first. \n",
    "Lets define the shape of the array to 5 raws, 4 columns."
   ]
  },
  {
   "cell_type": "code",
   "execution_count": 11,
   "metadata": {},
   "outputs": [],
   "source": [
    "import numpy as np"
   ]
  },
  {
   "cell_type": "code",
   "execution_count": 23,
   "metadata": {
    "scrolled": true
   },
   "outputs": [],
   "source": [
    "x = np.random.rand(5,4)"
   ]
  },
  {
   "cell_type": "code",
   "execution_count": 21,
   "metadata": {},
   "outputs": [],
   "source": [
    "import matplotlib.pyplot as plt"
   ]
  },
  {
   "cell_type": "code",
   "execution_count": 24,
   "metadata": {},
   "outputs": [
    {
     "data": {
      "text/plain": [
       "array([[0.13190179, 0.31757075, 0.73828106, 0.95064273],\n",
       "       [0.64996654, 0.23757528, 0.95953655, 0.96655489],\n",
       "       [0.22333538, 0.15516399, 0.97231661, 0.41171759],\n",
       "       [0.94063733, 0.90586097, 0.36271801, 0.12577216],\n",
       "       [0.53585094, 0.36321554, 0.59693898, 0.0553237 ]])"
      ]
     },
     "execution_count": 24,
     "metadata": {},
     "output_type": "execute_result"
    }
   ],
   "source": [
    "x"
   ]
  },
  {
   "cell_type": "code",
   "execution_count": 33,
   "metadata": {},
   "outputs": [
    {
     "data": {
      "text/plain": [
       "([array([1., 1., 2., 0., 0., 1., 0., 0., 0., 0.]),\n",
       "  array([2., 0., 1., 1., 0., 0., 0., 1., 0., 0.]),\n",
       "  array([0., 1., 2., 1., 1., 0., 0., 0., 0., 0.]),\n",
       "  array([0., 0., 0., 0., 1., 1., 1., 0., 1., 1.])],\n",
       " array([0.11972634, 0.20165387, 0.28358139, 0.36550892, 0.44743645,\n",
       "        0.52936397, 0.6112915 , 0.69321903, 0.77514655, 0.85707408,\n",
       "        0.93900161]),\n",
       " <a list of 4 Lists of Patches objects>)"
      ]
     },
     "execution_count": 33,
     "metadata": {},
     "output_type": "execute_result"
    },
    {
     "data": {
      "image/png": "[encoded data removed]",
      "text/plain": [
       "<Figure size 432x288 with 1 Axes>"
      ]
     },
     "metadata": {
      "needs_background": "light"
     },
     "output_type": "display_data"
    }
   ],
   "source": [
    "plt.hist(x)"
   ]
  },
  {
   "cell_type": "markdown",
   "metadata": {},
   "source": [
    "The above bar chart represents the uniform distribution of the random numbers. "
   ]
  },
  {
   "cell_type": "markdown",
   "metadata": {},
   "source": [
    "If no number is entered in the argument, a single float will be generated:"
   ]
  },
  {
   "cell_type": "code",
   "execution_count": 48,
   "metadata": {},
   "outputs": [
    {
     "data": {
      "text/plain": [
       "0.1450725568256349"
      ]
     },
     "execution_count": 48,
     "metadata": {},
     "output_type": "execute_result"
    }
   ],
   "source": [
    "np.random.rand()"
   ]
  },
  {
   "cell_type": "markdown",
   "metadata": {},
   "source": [
    "If a single argument is given, that number of random floats will be produced: \n"
   ]
  },
  {
   "cell_type": "code",
   "execution_count": 15,
   "metadata": {},
   "outputs": [],
   "source": [
    "x = np.random.rand(50000)"
   ]
  },
  {
   "cell_type": "code",
   "execution_count": 16,
   "metadata": {},
   "outputs": [
    {
     "data": {
      "text/plain": [
       "array([0.62341147, 0.73772798, 0.07507579, ..., 0.28598297, 0.62803484,\n",
       "       0.44613252])"
      ]
     },
     "execution_count": 16,
     "metadata": {},
     "output_type": "execute_result"
    }
   ],
   "source": [
    "x"
   ]
  },
  {
   "cell_type": "code",
   "execution_count": 17,
   "metadata": {},
   "outputs": [
    {
     "data": {
      "text/plain": [
       "(array([4981., 5000., 5010., 4896., 5012., 5068., 4931., 5040., 5039.,\n",
       "        5023.]),\n",
       " array([1.85276487e-05, 1.00015121e-01, 2.00011715e-01, 3.00008309e-01,\n",
       "        4.00004903e-01, 5.00001496e-01, 5.99998090e-01, 6.99994684e-01,\n",
       "        7.99991277e-01, 8.99987871e-01, 9.99984465e-01]),\n",
       " <a list of 10 Patch objects>)"
      ]
     },
     "execution_count": 17,
     "metadata": {},
     "output_type": "execute_result"
    },
    {
     "data": {
      "image/png": "[encoded data removed]",
      "text/plain": [
       "<Figure size 432x288 with 1 Axes>"
      ]
     },
     "metadata": {
      "needs_background": "light"
     },
     "output_type": "display_data"
    }
   ],
   "source": [
    "import matplotlib.pyplot as plt\n",
    "plt.hist(x)"
   ]
  },
  {
   "cell_type": "markdown",
   "metadata": {},
   "source": [
    "The histograms indicates the 50000 numbers were evenly picked from the 10 intervals of .1s (roughly 5000 float per interval). \n",
    "So there are almost 5000 numbers between 0.0 and 0.1, almost 5000 of numbers from 0.1 to 0.2 etc. There is roughly 4800 numbers \n",
    "in the range from 0.3 and 0.4 so that is slightly less than for other intervals. \n",
    "The likeliness of a number being picked is even for all the numbers between 0 and 1 and this unifor distribution is visible here.\n"
   ]
  },
  {
   "cell_type": "markdown",
   "metadata": {},
   "source": [
    "### RANDN\n",
    "*numpy.random.randn(d0, d1, ..., dn)*\n",
    "\n",
    "Randn function generates a sample (or samples) from the “standard normal” distribution. In contrast to the rand function above, randn is not limited in range to 0.0 to 1.0. If no argumner is provided, the randomly provided single float is returned:"
   ]
  },
  {
   "cell_type": "code",
   "execution_count": 6,
   "metadata": {},
   "outputs": [
    {
     "data": {
      "text/plain": [
       "1.3025120637615226"
      ]
     },
     "execution_count": 6,
     "metadata": {},
     "output_type": "execute_result"
    }
   ],
   "source": [
    "import numpy as np\n",
    "np.random.randn()"
   ]
  },
  {
   "cell_type": "code",
   "execution_count": 7,
   "metadata": {},
   "outputs": [
    {
     "data": {
      "text/plain": [
       "array([-0.46943939,  1.11174513, -0.25052697])"
      ]
     },
     "execution_count": 7,
     "metadata": {},
     "output_type": "execute_result"
    }
   ],
   "source": [
    "np.random.randn(3)"
   ]
  },
  {
   "cell_type": "markdown",
   "metadata": {},
   "source": [
    "In the below example with the array shape of 3 depths, 4 rows and 2 columns (all positivie), \n",
    "randn returns floating-point samples from the standard normal distribution of mean 0 and variance 1."
   ]
  },
  {
   "cell_type": "code",
   "execution_count": 13,
   "metadata": {},
   "outputs": [
    {
     "data": {
      "text/plain": [
       "array([[[-0.0213045 ,  2.7677523 ],\n",
       "        [-0.49156166, -0.16214491],\n",
       "        [ 0.20246005,  0.2013815 ],\n",
       "        [-0.09379358, -1.35101912]],\n",
       "\n",
       "       [[-0.51278517,  0.85476978],\n",
       "        [ 0.34054741, -1.23672379],\n",
       "        [-2.19557902,  0.36216373],\n",
       "        [ 0.52244339,  0.3027349 ]],\n",
       "\n",
       "       [[-1.32561368, -0.23279854],\n",
       "        [ 1.36304208,  0.09802972],\n",
       "        [ 0.38309183, -0.43991366],\n",
       "        [-1.57808004, -1.10840726]]])"
      ]
     },
     "execution_count": 13,
     "metadata": {},
     "output_type": "execute_result"
    }
   ],
   "source": [
    "np.random.randn(3,4,2)"
   ]
  },
  {
   "cell_type": "markdown",
   "metadata": {},
   "source": [
    "### RANDINT\n",
    "*numpy.random.randint(low, high=None, size=None, dtype='l')*\n",
    "\n",
    "Randint function returns random integers from low (inclusive) to high (exclusive). The returned random integers are from the “discrete uniform” distribution of the specified dtype in the half-open interval. Optionally you can select the size of the array and the desired dtype.\n",
    "    \n",
    "Lets import numpy and generate 10 random integers from 1 (iclusive) to 8 (exclusive): "
   ]
  },
  {
   "cell_type": "code",
   "execution_count": 3,
   "metadata": {},
   "outputs": [],
   "source": [
    "import numpy as np"
   ]
  },
  {
   "cell_type": "code",
   "execution_count": 18,
   "metadata": {},
   "outputs": [
    {
     "data": {
      "text/plain": [
       "array([3, 4, 2, 6, 5, 5, 3, 1, 6, 6])"
      ]
     },
     "execution_count": 18,
     "metadata": {},
     "output_type": "execute_result"
    }
   ],
   "source": [
    "np.random.randint(1, 8, size=10)"
   ]
  },
  {
   "cell_type": "markdown",
   "metadata": {},
   "source": [
    "In the below example, if high is not set the results are from 0 (inclusive) to 5 (not inclusive). The size is set to (2, 5) to generate a 2 arrays of 5 integers:"
   ]
  },
  {
   "cell_type": "code",
   "execution_count": 19,
   "metadata": {},
   "outputs": [
    {
     "data": {
      "text/plain": [
       "array([[0, 2, 4, 1, 4],\n",
       "       [3, 4, 2, 3, 1]])"
      ]
     },
     "execution_count": 19,
     "metadata": {},
     "output_type": "execute_result"
    }
   ],
   "source": [
    "np.random.randint(5, size=(2, 5))"
   ]
  },
  {
   "cell_type": "markdown",
   "metadata": {},
   "source": [
    "### RANDOM_INTEGERS\n",
    "*numpy.random.random_integers(low, high=None, size=None)*\n",
    "\n",
    "Random_integers function returns random integers of type np.int between low and high, inclusive.\n",
    "\n",
    "This function has been deprecated and it is recommended to use randint function instead so it is not investigated in more detail. "
   ]
  },
  {
   "cell_type": "markdown",
   "metadata": {},
   "source": [
    "### RANDOM/RANDOM_SAMPLE/RANF\n",
    "*numpy.random.random_sample*(size=None)\n",
    "\n",
    "Random, random_sample and ranf are the same random sample functions which return random floats in the half-open interval [0.0,1.0).\n",
    "\n",
    "Results are from the “continuous uniform” distribution over the stated interval. \n",
    "To sample Unif[a, b), b > a multiply the output of random_sample by (b-a) and add a:\n",
    "\n",
    "(b - a) * random_sample() + a\n",
    "\n",
    "If the below example the default size is none, the single result is returned. "
   ]
  },
  {
   "cell_type": "code",
   "execution_count": 20,
   "metadata": {},
   "outputs": [
    {
     "data": {
      "text/plain": [
       "0.12709607551654645"
      ]
     },
     "execution_count": 20,
     "metadata": {},
     "output_type": "execute_result"
    }
   ],
   "source": [
    "np.random.random_sample()"
   ]
  },
  {
   "cell_type": "markdown",
   "metadata": {},
   "source": [
    "The type functions returns the type of random sample:"
   ]
  },
  {
   "cell_type": "code",
   "execution_count": 25,
   "metadata": {},
   "outputs": [
    {
     "data": {
      "text/plain": [
       "float"
      ]
     },
     "execution_count": 25,
     "metadata": {},
     "output_type": "execute_result"
    }
   ],
   "source": [
    "type(np.random.random_sample())"
   ]
  },
  {
   "cell_type": "markdown",
   "metadata": {},
   "source": [
    "Below example shows hot to get an array of 7 random floats in the half-open interval [0.0, 1.0): "
   ]
  },
  {
   "cell_type": "code",
   "execution_count": 26,
   "metadata": {},
   "outputs": [
    {
     "data": {
      "text/plain": [
       "array([0.46231493, 0.93964765, 0.67224395, 0.03648209, 0.7325554 ,\n",
       "       0.06680693, 0.61326239])"
      ]
     },
     "execution_count": 26,
     "metadata": {},
     "output_type": "execute_result"
    }
   ],
   "source": [
    "np.random.random_sample((7,))"
   ]
  },
  {
   "cell_type": "markdown",
   "metadata": {},
   "source": [
    "Its possible to generate array of random floats in a certain shape using the formula:\n",
    "\n",
    "**(b - a) * random_sample() + a**\n",
    "\n",
    "For example 3 random numbers in 2 columns (3, 2) from 3(inlusive) to 10(exclusive) would require the below formula:"
   ]
  },
  {
   "cell_type": "code",
   "execution_count": 10,
   "metadata": {},
   "outputs": [
    {
     "data": {
      "text/plain": [
       "array([[6.49170499, 8.79158783],\n",
       "       [9.94660815, 5.40613667],\n",
       "       [6.53958947, 3.42196946]])"
      ]
     },
     "execution_count": 10,
     "metadata": {},
     "output_type": "execute_result"
    }
   ],
   "source": [
    "import numpy as np\n",
    "7 * np.random.random_sample((3, 2)) + 3"
   ]
  },
  {
   "cell_type": "markdown",
   "metadata": {},
   "source": [
    "### CHOICE\n",
    "*numpy.random.choice(a, size=None, replace=True, p=None)*\n",
    "\n",
    "Numpy.random.choice function is used to generate a random sample (uniform or non-uniorm) from a given 1-D array. \n",
    "\n",
    "Lets obtain uniform random sample of 10 numbers up to 10(exclusive) *(this unction is equivalent to np.random.randint(0,10,10))*:"
   ]
  },
  {
   "cell_type": "code",
   "execution_count": 19,
   "metadata": {},
   "outputs": [
    {
     "data": {
      "text/plain": [
       "array([8, 7, 6, 0, 6, 1, 1, 6, 7, 6])"
      ]
     },
     "execution_count": 19,
     "metadata": {},
     "output_type": "execute_result"
    }
   ],
   "source": [
    "import numpy as np\n",
    "x = np.random.choice(10, 10)"
   ]
  },
  {
   "cell_type": "code",
   "execution_count": null,
   "metadata": {},
   "outputs": [],
   "source": [
    "import matplotlib.pyplot as plt"
   ]
  },
  {
   "cell_type": "code",
   "execution_count": 35,
   "metadata": {},
   "outputs": [
    {
     "data": {
      "image/png": "[encoded data removed]",
      "text/plain": [
       "<Figure size 432x288 with 1 Axes>"
      ]
     },
     "metadata": {
      "needs_background": "light"
     },
     "output_type": "display_data"
    }
   ],
   "source": [
    "plt.plot([8, 7, 6, 0, 6, 1, 1, 6, 7, 6], \"r\")\n",
    "plt.show()"
   ]
  },
  {
   "cell_type": "markdown",
   "metadata": {},
   "source": [
    "We can set the probability (p) for the numbers which will result in a non-uniform distribution:"
   ]
  },
  {
   "cell_type": "code",
   "execution_count": 38,
   "metadata": {},
   "outputs": [
    {
     "data": {
      "text/plain": [
       "array([2, 4, 4, 4, 8, 2, 4, 4, 4, 2], dtype=int64)"
      ]
     },
     "execution_count": 38,
     "metadata": {},
     "output_type": "execute_result"
    }
   ],
   "source": [
    "np.random.choice(10, 10, p=[0, 0, 0.1, 0.2, 0.4, 0, 0.1, 0, 0.1, 0.1])"
   ]
  },
  {
   "cell_type": "code",
   "execution_count": 41,
   "metadata": {},
   "outputs": [
    {
     "data": {
      "image/png": "[encoded data removed]",
      "text/plain": [
       "<Figure size 432x288 with 1 Axes>"
      ]
     },
     "metadata": {
      "needs_background": "light"
     },
     "output_type": "display_data"
    }
   ],
   "source": [
    "plt.plot([2, 4, 4, 4, 8, 2, 4, 4, 4, 2], \"r\")\n",
    "plt.show()"
   ]
  },
  {
   "cell_type": "markdown",
   "metadata": {},
   "source": [
    "Optionally we can generate a uniform random sample from np.arange(10) of size 10 without replacement. \n",
    "*This is equivalent to np.random.permutation(np.arange(10))[:10]*"
   ]
  },
  {
   "cell_type": "code",
   "execution_count": 42,
   "metadata": {},
   "outputs": [
    {
     "data": {
      "text/plain": [
       "array([9, 4, 8, 6, 7, 1, 5, 3, 0, 2])"
      ]
     },
     "execution_count": 42,
     "metadata": {},
     "output_type": "execute_result"
    }
   ],
   "source": [
    "np.random.choice(10, 10, replace=False)"
   ]
  },
  {
   "cell_type": "code",
   "execution_count": 43,
   "metadata": {},
   "outputs": [
    {
     "data": {
      "text/plain": [
       "<function matplotlib.pyplot.show(*args, **kw)>"
      ]
     },
     "execution_count": 43,
     "metadata": {},
     "output_type": "execute_result"
    },
    {
     "data": {
      "image/png": "[encoded data removed]",
      "text/plain": [
       "<Figure size 432x288 with 1 Axes>"
      ]
     },
     "metadata": {
      "needs_background": "light"
     },
     "output_type": "display_data"
    }
   ],
   "source": [
    "plt.plot([9, 4, 8, 6, 7, 1, 5, 3, 0, 2], \"r\")\n",
    "plt.show"
   ]
  },
  {
   "cell_type": "markdown",
   "metadata": {},
   "source": [
    "Furthermore, it is possible to generate a non-uniform random sample from np.arange(10) of size 10 without replacement:"
   ]
  },
  {
   "cell_type": "code",
   "execution_count": 46,
   "metadata": {},
   "outputs": [
    {
     "data": {
      "text/plain": [
       "array([8, 9, 3, 1, 0, 7, 5, 2, 6, 4])"
      ]
     },
     "execution_count": 46,
     "metadata": {},
     "output_type": "execute_result"
    }
   ],
   "source": [
    "np.random.choice(10, 10, replace=False, p=[0.1, 0.1, 0.1, 0.1, 0.1, 0.1, 0.1, 0.1, 0.1, 0.1])"
   ]
  },
  {
   "cell_type": "markdown",
   "metadata": {},
   "source": [
    "Lets see that on the plot:"
   ]
  },
  {
   "cell_type": "code",
   "execution_count": 48,
   "metadata": {},
   "outputs": [
    {
     "data": {
      "text/plain": [
       "[<matplotlib.lines.Line2D at 0x1763669f898>]"
      ]
     },
     "execution_count": 48,
     "metadata": {},
     "output_type": "execute_result"
    },
    {
     "data": {
      "image/png": "[encoded data removed]",
      "text/plain": [
       "<Figure size 432x288 with 1 Axes>"
      ]
     },
     "metadata": {
      "needs_background": "light"
     },
     "output_type": "display_data"
    }
   ],
   "source": [
    "plt.plot([8, 9, 3, 1, 0, 7, 5, 2, 6, 4], \"r\")"
   ]
  },
  {
   "cell_type": "markdown",
   "metadata": {},
   "source": [
    "All of the above random sample functions can be repeated with an arbitrary array-like instead of just integers. For instance:"
   ]
  },
  {
   "cell_type": "code",
   "execution_count": 50,
   "metadata": {},
   "outputs": [
    {
     "data": {
      "text/plain": [
       "array(['PW', 'Honeywell', 'Honeywell', 'PW', 'Honeywell'], dtype='<U9')"
      ]
     },
     "execution_count": 50,
     "metadata": {},
     "output_type": "execute_result"
    }
   ],
   "source": [
    "Aircraft_Engine_Manuf = ['PWC', 'GE', 'AEI', 'PW', 'Honeywell']\n",
    "\n",
    "np.random.choice(Aircraft_Engine_Manuf, 5, p=[0.2, 0.1, 0, 0.3, 0.4])"
   ]
  },
  {
   "cell_type": "markdown",
   "metadata": {},
   "source": [
    "### BYTES\n",
    "*numpy.random.bytes(length)*\n",
    "\n",
    "Numpy.random.bytes function returns random bytes in string format once the length (integer) is provided. For example:"
   ]
  },
  {
   "cell_type": "code",
   "execution_count": 3,
   "metadata": {},
   "outputs": [
    {
     "data": {
      "text/plain": [
       "b'\\x93\\x1d\\xd3\\xef\\xa0)\\x06g<\\xfe'"
      ]
     },
     "execution_count": 3,
     "metadata": {},
     "output_type": "execute_result"
    }
   ],
   "source": [
    "import numpy as np\n",
    "np.random.bytes(10)"
   ]
  },
  {
   "cell_type": "markdown",
   "metadata": {},
   "source": [
    "## PERMUTATIONS\n",
    "\n",
    "Permutation means either arranging the data in a set into a sequence or order or, in case when the set is already ordered, rearranging (reordering) its elements.\n",
    "Numpy.random package offers 2 permutation functions:\n",
    "- shuffle\n",
    "- permutation\n"
   ]
  },
  {
   "cell_type": "markdown",
   "metadata": {},
   "source": [
    "### SHUFFLE\n",
    "*(numpy.random.shuffle(x))*\n",
    "\n",
    "Shuffle function allows rearranging a sequence in-place (either an array or a list) by shuffling the elements.\n",
    "\n",
    "Lets get an array of number from 0 to 14:"
   ]
  },
  {
   "cell_type": "code",
   "execution_count": 10,
   "metadata": {},
   "outputs": [
    {
     "data": {
      "text/plain": [
       "array([ 0,  1,  2,  3,  4,  5,  6,  7,  8,  9, 10, 11, 12, 13, 14])"
      ]
     },
     "execution_count": 10,
     "metadata": {},
     "output_type": "execute_result"
    }
   ],
   "source": [
    "    import numpy as np\n",
    "    arr = np.arange(15)\n",
    "    arr"
   ]
  },
  {
   "cell_type": "markdown",
   "metadata": {},
   "source": [
    "Lets shuffle the order of the above array:"
   ]
  },
  {
   "cell_type": "code",
   "execution_count": 11,
   "metadata": {},
   "outputs": [
    {
     "data": {
      "text/plain": [
       "array([14, 13,  6,  1,  5,  9,  8,  4,  7, 11,  2,  3, 12,  0, 10])"
      ]
     },
     "execution_count": 11,
     "metadata": {},
     "output_type": "execute_result"
    }
   ],
   "source": [
    "np.random.shuffle(arr)\n",
    "arr"
   ]
  },
  {
   "cell_type": "markdown",
   "metadata": {},
   "source": [
    "We can change the shape of the array above into 5 rows and 3 columns (5,3):"
   ]
  },
  {
   "cell_type": "code",
   "execution_count": 15,
   "metadata": {},
   "outputs": [
    {
     "data": {
      "text/plain": [
       "array([[ 0,  1,  2],\n",
       "       [ 3,  4,  5],\n",
       "       [ 6,  7,  8],\n",
       "       [ 9, 10, 11],\n",
       "       [12, 13, 14]])"
      ]
     },
     "execution_count": 15,
     "metadata": {},
     "output_type": "execute_result"
    }
   ],
   "source": [
    "arr = np.arange(15).reshape((5, 3))\n",
    "arr"
   ]
  },
  {
   "cell_type": "markdown",
   "metadata": {},
   "source": [
    "Lets shuffle to content of these multi-dimensional arrays. The order of arrays will change but their contents remain the same:"
   ]
  },
  {
   "cell_type": "code",
   "execution_count": 16,
   "metadata": {},
   "outputs": [
    {
     "data": {
      "text/plain": [
       "array([[ 0,  1,  2],\n",
       "       [ 3,  4,  5],\n",
       "       [ 9, 10, 11],\n",
       "       [12, 13, 14],\n",
       "       [ 6,  7,  8]])"
      ]
     },
     "execution_count": 16,
     "metadata": {},
     "output_type": "execute_result"
    }
   ],
   "source": [
    "np.random.shuffle(arr)\n",
    "arr"
   ]
  },
  {
   "cell_type": "code",
   "execution_count": 17,
   "metadata": {},
   "outputs": [
    {
     "data": {
      "text/plain": [
       "array([[12, 13, 14],\n",
       "       [ 0,  1,  2],\n",
       "       [ 6,  7,  8],\n",
       "       [ 9, 10, 11],\n",
       "       [ 3,  4,  5]])"
      ]
     },
     "execution_count": 17,
     "metadata": {},
     "output_type": "execute_result"
    }
   ],
   "source": [
    "np.random.shuffle(arr)\n",
    "arr"
   ]
  },
  {
   "cell_type": "markdown",
   "metadata": {},
   "source": [
    "### PERMUTATION \n",
    "*numpy.random.permutation(x)*\n",
    "\n",
    "Permutation function allows randomly permute a sequence, or return a permuted range.\n",
    "\n",
    "For example, it is possible to randomly permute a number of 15 integers:"
   ]
  },
  {
   "cell_type": "code",
   "execution_count": 18,
   "metadata": {},
   "outputs": [
    {
     "data": {
      "text/plain": [
       "array([ 7, 10, 14,  4,  5,  2, 13,  0,  8,  3, 11,  1,  6, 12,  9])"
      ]
     },
     "execution_count": 18,
     "metadata": {},
     "output_type": "execute_result"
    }
   ],
   "source": [
    "np.random.permutation(15)"
   ]
  },
  {
   "cell_type": "markdown",
   "metadata": {},
   "source": [
    "We can then randomly shuffle the array of numbers from the above example:"
   ]
  },
  {
   "cell_type": "code",
   "execution_count": 19,
   "metadata": {},
   "outputs": [
    {
     "data": {
      "text/plain": [
       "array([ 1,  2,  0,  7, 13, 14,  8,  9, 10, 12,  4,  6,  5, 11,  3])"
      ]
     },
     "execution_count": 19,
     "metadata": {},
     "output_type": "execute_result"
    }
   ],
   "source": [
    "np.random.permutation([ 7, 10, 14,  4,  5,  2, 13,  0,  8,  3, 11,  1,  6, 12,  9])"
   ]
  },
  {
   "cell_type": "markdown",
   "metadata": {},
   "source": [
    "We can shape the array into 5 rows and 3 columns and randomly shuffle the elements along its first sequence:"
   ]
  },
  {
   "cell_type": "code",
   "execution_count": 21,
   "metadata": {},
   "outputs": [
    {
     "data": {
      "text/plain": [
       "array([[ 0,  1,  2],\n",
       "       [ 6,  7,  8],\n",
       "       [12, 13, 14],\n",
       "       [ 9, 10, 11],\n",
       "       [ 3,  4,  5]])"
      ]
     },
     "execution_count": 21,
     "metadata": {},
     "output_type": "execute_result"
    }
   ],
   "source": [
    "arr = np.arange(15).reshape((5,3))\n",
    "np.random.permutation(arr)"
   ]
  },
  {
   "cell_type": "markdown",
   "metadata": {},
   "source": [
    "## DISTRIBUTIONS\n",
    "Distributions are used in data science to model different types of phenomena. \n",
    "\n",
    "Lets invetigate some of the probability Distributions used in the numpy.random package. \n",
    "\n"
   ]
  },
  {
   "cell_type": "markdown",
   "metadata": {},
   "source": [
    "### UNIFORM DISTRIBUTION\n",
    "*numpy.random.uniform(low=0.0, high=1.0, size=None)*\n",
    "\n",
    "One of the simplest probability distribution in statistics is uniform distribution. It generates samples uniformly distributed over the half-open interval [low, high) so any of the values within the given interval is equally likely to be selected. It is a discrete distribution, which means that it takes a finite set of possible outcomes. Rolling a dice is an example of uniform distribution.\n",
    "                                                                                           \n",
    "For the purpose of this research, lets generate 4000 samples in the range from 1 (inclusive) to 5(exclusive) and later see how the uniform distribution is characterised on the histogram."
   ]
  },
  {
   "cell_type": "code",
   "execution_count": 7,
   "metadata": {},
   "outputs": [
    {
     "data": {
      "text/plain": [
       "array([4.02779954, 3.767191  , 3.33251928, ..., 1.51529707, 3.85151094,\n",
       "       3.028473  ])"
      ]
     },
     "execution_count": 7,
     "metadata": {},
     "output_type": "execute_result"
    }
   ],
   "source": [
    "import numpy as np\n",
    "x = np.random.uniform(1,5,4000)\n",
    "x"
   ]
  },
  {
   "cell_type": "code",
   "execution_count": 9,
   "metadata": {},
   "outputs": [
    {
     "data": {
      "image/png": "[encoded data removed]",
      "text/plain": [
       "<Figure size 432x288 with 1 Axes>"
      ]
     },
     "metadata": {
      "needs_background": "light"
     },
     "output_type": "display_data"
    }
   ],
   "source": [
    "import matplotlib.pyplot as plt\n",
    "plt.hist(x)\n",
    "plt.show()"
   ]
  },
  {
   "cell_type": "markdown",
   "metadata": {},
   "source": [
    "The histograms indicates the 4000 numbers were evenly picked from the 10 intervals of 0.4 (roughly 400 floats per interval). \n",
    "We see that there are 400 numbers between 1.0 and 1.4, almost 400 of numbers from 1.4 to 1.8, more than 400 floats from 1.2 to 1.3 and so on. There are roughly 380 number in the range from 3.0 to 3.4 so that is slightly less than for other intervals. \n",
    "The likeliness of a number being picked is even for all the numbers between 1 and 5(exclusive) and this even, uniform probability of distribution is visible on the plot.\n",
    "\n",
    "References: http://www.ucd.ie/msc/t4media/Uniform%20Distribution.pdf"
   ]
  },
  {
   "cell_type": "markdown",
   "metadata": {},
   "source": [
    "### NORMAL DISTRIBUTION\n",
    "*numpy.random.normal(loc=0.0, scale=1.0, size=None)*\n",
    "\n",
    "The most important probability distribution in statistics, because it fits many natural phenomena, is the normal distribution, aka the Gaussian distribution and the bell curve. This distribution describes how the values of a variable are distributed. Most of them are clustered around the mean which defines the area of central peak and the probability for values further away from the mean decrease equally in both directions. Extreme values in both tails of the distribution are similarly unlikely.\n",
    "\n",
    "Some of the examples that follow the normal distributions are blood pressure, height, measurement error, and IQ scores. \n",
    "\n",
    "References: https://statisticsbyjim.com/basics/normal-distribution/\n",
    "\n",
    "Lets explore the uniform distribution using the below examples.\n",
    "\n"
   ]
  },
  {
   "cell_type": "markdown",
   "metadata": {
    "collapsed": true
   },
   "source": [
    "Lets set the mean of the distribution to 0, scale (standard deviation of the distribution) to 0.2. I am getting a lot of number written in a abreviated format using e-nuber(01, 02, 03 etc). Below these numbers are also presented in the histogram."
   ]
  },
  {
   "cell_type": "code",
   "execution_count": 10,
   "metadata": {},
   "outputs": [
    {
     "data": {
      "text/plain": [
       "array([-0.23213739, -0.07233499,  0.33381019, -0.25934845,  0.16148362,\n",
       "        0.44133639, -0.02389116,  0.30520135, -0.19418704, -0.17999766,\n",
       "       -0.21054122, -0.17190701,  0.0716501 , -0.23169611,  0.07597663,\n",
       "       -0.07965568,  0.1280267 ,  0.35689551, -0.26875821,  0.03563581,\n",
       "       -0.04149654, -0.00666672, -0.05812652, -0.1519946 ,  0.1877514 ,\n",
       "        0.05837875, -0.13936479,  0.10554736,  0.07956154, -0.01887654,\n",
       "       -0.00601682,  0.12728691, -0.02835008, -0.49319665, -0.23135906,\n",
       "       -0.24679253,  0.09262621, -0.07549422,  0.06570499,  0.39897537,\n",
       "       -0.49543389, -0.10981076, -0.05350144, -0.03274857, -0.10755954,\n",
       "        0.16030693,  0.05204181, -0.23500518,  0.11633825,  0.20350981,\n",
       "       -0.2852745 , -0.03902802, -0.08894021,  0.12872484,  0.25618385,\n",
       "        0.12119395,  0.01735392, -0.089717  , -0.04147984,  0.28850478,\n",
       "        0.0352919 ,  0.14031936,  0.22828834,  0.16272241,  0.48125454,\n",
       "       -0.2285401 ,  0.10726353, -0.32186055, -0.03414785, -0.13487325,\n",
       "        0.06550666,  0.1199553 ,  0.25437391,  0.02873503, -0.33676985,\n",
       "        0.44946809,  0.0975645 ,  0.14777381,  0.01777726,  0.30290416,\n",
       "        0.33902951, -0.29118828,  0.04421871,  0.22830837,  0.19301969,\n",
       "        0.12448531,  0.00734095,  0.06711485,  0.58346117,  0.27901654,\n",
       "        0.05423469,  0.31337956, -0.15858126, -0.24245791,  0.21997776,\n",
       "       -0.23115515,  0.12882723,  0.32558958,  0.11063913,  0.01798488,\n",
       "       -0.02979287,  0.09559147, -0.0665105 ,  0.16667202,  0.05977851,\n",
       "       -0.13359419, -0.1056429 ,  0.01225162,  0.0573081 ,  0.11252465,\n",
       "        0.0617133 ,  0.18199955, -0.13296468,  0.20843312,  0.15568946,\n",
       "       -0.18988381, -0.37810137, -0.00385697, -0.18220415, -0.04138484,\n",
       "       -0.07629827,  0.03651578,  0.07989303, -0.10275668, -0.03361652,\n",
       "        0.09293156, -0.03451912, -0.28772043, -0.05985668,  0.16216964,\n",
       "       -0.1590641 ,  0.12911273, -0.40049275, -0.22772156,  0.00783346,\n",
       "       -0.23127018,  0.26798787, -0.0344615 , -0.03613113, -0.08224257,\n",
       "        0.01127992,  0.17583021,  0.0049616 , -0.06916755,  0.40824039,\n",
       "        0.10277882, -0.18032086,  0.03090318, -0.35500147, -0.27723015,\n",
       "        0.11642379, -0.19814086,  0.22368901,  0.0779541 ,  0.09801163,\n",
       "       -0.09119885, -0.0372555 ,  0.01378152,  0.02191113,  0.14332351,\n",
       "       -0.02140108, -0.07800207, -0.21330222, -0.13719089,  0.09198696,\n",
       "        0.21713747, -0.10483772, -0.35985487, -0.04461639, -0.29953575,\n",
       "        0.08518035,  0.28163632,  0.03079407,  0.00318093, -0.44294364,\n",
       "       -0.09662266,  0.12565437, -0.11422473,  0.33634394, -0.04227718,\n",
       "       -0.55160579,  0.33491918,  0.23057408, -0.15060949, -0.12860148,\n",
       "       -0.11050689, -0.08317614,  0.13438699,  0.05819207,  0.37281757,\n",
       "       -0.10030203,  0.06178245,  0.20864725,  0.04179566, -0.29050945,\n",
       "       -0.37006212,  0.22829004, -0.36792773, -0.26755041, -0.05029015,\n",
       "       -0.0979542 ,  0.38289567, -0.02789287,  0.09126067, -0.06358508,\n",
       "        0.19823859,  0.03118205, -0.32596158, -0.08381977,  0.03604561,\n",
       "        0.00068254, -0.11194612,  0.11452457,  0.07058776, -0.01471796,\n",
       "        0.3056698 , -0.11123091, -0.15008024, -0.03917114,  0.11498611,\n",
       "       -0.02459296, -0.05366727,  0.19836096,  0.21669314,  0.23351168,\n",
       "       -0.05096462,  0.02815842,  0.1984557 , -0.49920089, -0.15489791,\n",
       "       -0.10633535,  0.34249173, -0.13906285,  0.0160722 , -0.01224309,\n",
       "        0.07680668, -0.0823916 ,  0.19704998,  0.05871779,  0.04233583,\n",
       "       -0.26968142,  0.10282331, -0.22917588, -0.25814497, -0.37260343,\n",
       "        0.07866002,  0.27955436, -0.41652697,  0.19614689,  0.22755618,\n",
       "       -0.23800915, -0.11276196, -0.1273141 ,  0.01079748,  0.36288842,\n",
       "       -0.38380633, -0.42827037, -0.215088  , -0.53257807,  0.09710223,\n",
       "        0.0307746 ,  0.19204152, -0.02761382, -0.16207617, -0.38584181,\n",
       "        0.0412952 , -0.03826186,  0.43577634, -0.246571  , -0.10913945,\n",
       "        0.02618609,  0.4142118 ,  0.22666237,  0.21955608, -0.17021253,\n",
       "       -0.08656414,  0.27870509,  0.07818296,  0.09126541, -0.01682654,\n",
       "        0.27210701,  0.06529891,  0.11620374,  0.06216684,  0.32706891,\n",
       "        0.16038355,  0.03716663,  0.2001626 , -0.09972637, -0.1732158 ,\n",
       "        0.11934686, -0.03219522, -0.01163128,  0.14721666,  0.41971506,\n",
       "        0.17973861,  0.19507253,  0.00418876,  0.13303157,  0.12885009,\n",
       "        0.30863425,  0.08987895, -0.05517129,  0.03598514,  0.15775877,\n",
       "        0.18343735,  0.05703454,  0.08006726,  0.51041374,  0.24959364,\n",
       "        0.26774496,  0.15626183, -0.05042817,  0.31624857,  0.07267163,\n",
       "       -0.1154698 ,  0.40203699,  0.2824734 , -0.11259608, -0.0919454 ,\n",
       "       -0.2783815 ,  0.05476842,  0.06258858, -0.13636008,  0.08467929,\n",
       "        0.35252237, -0.00660647, -0.18901408,  0.42829931,  0.03482864,\n",
       "       -0.06705062, -0.10515039, -0.07933094,  0.5295269 ,  0.01795403,\n",
       "       -0.12784974,  0.1183534 , -0.25369082,  0.35138053, -0.1295484 ,\n",
       "        0.09970845, -0.14360993, -0.43353721,  0.51598379, -0.06406458,\n",
       "       -0.26484445,  0.30794614, -0.01978496,  0.18854825,  0.36735288,\n",
       "       -0.22531296,  0.20545213, -0.15695358,  0.14134787,  0.26439365,\n",
       "       -0.0083205 ,  0.14301042, -0.05764898, -0.03093492,  0.1340874 ,\n",
       "        0.05103788, -0.00749479, -0.10216458,  0.11918617,  0.18562473,\n",
       "       -0.38506678, -0.13790687, -0.34914197, -0.18346875, -0.13957692,\n",
       "       -0.10257903, -0.21898976, -0.16002217,  0.02205356,  0.09647328,\n",
       "        0.20088188, -0.05987904,  0.28756632, -0.17501328, -0.06292149,\n",
       "       -0.19780846, -0.11328151,  0.10121819, -0.00736868,  0.26600995,\n",
       "       -0.16199486,  0.59590417,  0.32017466, -0.16401866,  0.43035207,\n",
       "       -0.12940056, -0.08092347,  0.19642747,  0.07462971,  0.27674151,\n",
       "        0.21528067, -0.08947738,  0.13629607, -0.06982144, -0.03834073,\n",
       "        0.07561569, -0.16794845,  0.08870362, -0.08541007, -0.12252756,\n",
       "       -0.14002687, -0.13767842, -0.22519736,  0.25513021, -0.0235688 ,\n",
       "       -0.06116195,  0.07616229,  0.00297137,  0.13719677,  0.09090454,\n",
       "        0.10077329,  0.03090954, -0.09150797, -0.29785904,  0.07344811,\n",
       "        0.08932006,  0.42195466, -0.36993359,  0.1096172 ,  0.1521414 ,\n",
       "       -0.25375805, -0.24900954, -0.24183718,  0.24776222,  0.13190983,\n",
       "        0.04032405, -0.30143395, -0.17860114, -0.1834464 , -0.22004624,\n",
       "        0.23878357, -0.08163938, -0.16500524,  0.26903087,  0.14580326,\n",
       "       -0.26522815, -0.02842724,  0.11687501,  0.36939932,  0.03323904,\n",
       "        0.43406684,  0.16935243,  0.43530732,  0.02067889,  0.26087337,\n",
       "       -0.05552946,  0.25141374,  0.07221151,  0.25913053,  0.2184488 ,\n",
       "        0.40998365, -0.05327237,  0.16456474, -0.09776086, -0.52452875,\n",
       "       -0.2564948 ,  0.11565622,  0.1033724 , -0.10298487,  0.30449622,\n",
       "       -0.09825079,  0.0247037 ,  0.34549742,  0.50023393, -0.07296529,\n",
       "       -0.18005762,  0.27703607,  0.06111127,  0.04158184, -0.22074994,\n",
       "        0.05120907, -0.3064948 ,  0.0689926 ,  0.03749904,  0.06866834,\n",
       "       -0.08870771, -0.12362811,  0.09319507, -0.0306378 ,  0.00219621,\n",
       "       -0.08207165, -0.06806885, -0.17681296, -0.19058713, -0.32070985,\n",
       "        0.10035948,  0.38509014, -0.00552056, -0.15061589,  0.22577925,\n",
       "        0.2863312 ,  0.28971916, -0.04068932, -0.23862758, -0.05873764,\n",
       "        0.23275389, -0.24343796, -0.16877573, -0.14459277, -0.18957375,\n",
       "       -0.19136106, -0.19720169,  0.18720422,  0.1232088 , -0.15815455,\n",
       "        0.00945944, -0.03164504, -0.16976113, -0.03411177, -0.31796524,\n",
       "        0.08130058, -0.26523461,  0.14260175,  0.01952544, -0.0848576 ,\n",
       "       -0.1384087 , -0.09713596,  0.01020755,  0.0287628 ,  0.03809453,\n",
       "       -0.15075337,  0.09296017,  0.03951633,  0.18455111, -0.05577528,\n",
       "       -0.43436663, -0.29200814,  0.24746862,  0.20663856,  0.00662811,\n",
       "       -0.20525081,  0.05032656,  0.23366805, -0.08653874,  0.0795742 ,\n",
       "        0.15904693,  0.27597696,  0.27767208,  0.16866469,  0.250122  ,\n",
       "        0.23570053,  0.18224733,  0.30740586, -0.01969941,  0.00653282,\n",
       "        0.14618923,  0.14289062, -0.18804388,  0.01735458,  0.04945121,\n",
       "       -0.14279811, -0.11736139, -0.24475574, -0.09817446,  0.3416702 ,\n",
       "        0.06993973,  0.12639678, -0.11433248, -0.234618  ,  0.31177394,\n",
       "       -0.21149756, -0.06799203,  0.30411939,  0.14687495, -0.13155531,\n",
       "       -0.30676828, -0.17129122, -0.23755633,  0.01685495,  0.2150666 ,\n",
       "       -0.01161705, -0.26008539,  0.14814892,  0.18510058,  0.00908491,\n",
       "        0.12256262, -0.25822281,  0.18420604, -0.16283003,  0.07994488,\n",
       "       -0.09716792,  0.00206759, -0.27161539,  0.32127727,  0.02501343,\n",
       "        0.14688943,  0.14706678, -0.0479619 , -0.02104989,  0.08097192,\n",
       "       -0.04368057,  0.10314889, -0.22399353,  0.25176826, -0.18916666,\n",
       "        0.16841527,  0.1589656 , -0.04071473,  0.07690247, -0.29018252,\n",
       "       -0.04696447, -0.07738988, -0.2850225 ,  0.00097133, -0.19198677,\n",
       "        0.09011678, -0.34399259, -0.30084925,  0.11879442, -0.16553691,\n",
       "        0.12220954, -0.0410389 ,  0.0278994 , -0.2224097 , -0.14569212,\n",
       "       -0.23419477, -0.22210034, -0.05341256,  0.10368614,  0.19952699,\n",
       "       -0.02752631, -0.11704195, -0.14375206, -0.05113555, -0.03797054,\n",
       "       -0.01750366,  0.04472513, -0.38238038,  0.02328009,  0.01904922,\n",
       "        0.14560218, -0.35840716, -0.26072493, -0.24810628,  0.22752543,\n",
       "        0.05758487,  0.25094471, -0.2755554 ,  0.01297872,  0.28627424,\n",
       "        0.28229981, -0.0204669 , -0.32213587,  0.24933917,  0.26274969,\n",
       "        0.27989181,  0.38743462,  0.14150016,  0.05144811,  0.021004  ,\n",
       "        0.08190735, -0.00830721, -0.27980077,  0.11654499, -0.15440975,\n",
       "       -0.1910436 ,  0.07666595,  0.01723404, -0.17086752, -0.11954909,\n",
       "        0.36317748, -0.03754074, -0.03318949, -0.27956714,  0.10491102,\n",
       "        0.3021108 ,  0.16429197, -0.1973009 ,  0.0300206 , -0.24358738,\n",
       "        0.09822112,  0.13640157, -0.02681405,  0.01362815,  0.04565986,\n",
       "        0.08212176, -0.130234  , -0.1490556 ,  0.12005584, -0.33219696,\n",
       "        0.09090528, -0.05622757, -0.05681699, -0.05422364,  0.10924553,\n",
       "        0.03150591, -0.12424567, -0.03976858,  0.11038447,  0.17775456,\n",
       "        0.22238295, -0.14741638,  0.17512144, -0.12881272,  0.00188607,\n",
       "       -0.11184801, -0.18392458,  0.13195307, -0.14734198, -0.13980993,\n",
       "        0.10970986, -0.16840209, -0.38393911, -0.03185549,  0.09589748,\n",
       "        0.3691957 , -0.2335189 , -0.15935373,  0.00990408,  0.20508972,\n",
       "        0.06404413, -0.03282124, -0.22909685, -0.34717853, -0.22662344,\n",
       "       -0.24623157,  0.29855882, -0.21256963, -0.03342535,  0.02249439,\n",
       "        0.18064641,  0.18523373,  0.0672606 , -0.03639028,  0.14273257,\n",
       "       -0.3653126 ,  0.18259187,  0.52023594, -0.10770261, -0.07767802,\n",
       "        0.01819527,  0.22344517, -0.14011196, -0.0293039 ,  0.09742391,\n",
       "        0.58387593, -0.26768351, -0.1642847 , -0.26769184, -0.05636948,\n",
       "        0.47898182, -0.28838283,  0.11200187,  0.1259734 ,  0.08623838,\n",
       "        0.12437785, -0.29003836, -0.1378398 ,  0.24447551, -0.16825188,\n",
       "       -0.22361295,  0.05488262, -0.06177228,  0.13908927, -0.05472511,\n",
       "       -0.14453062, -0.05178948,  0.01842638,  0.26789517, -0.05598342,\n",
       "        0.12408642,  0.1540164 , -0.15198083, -0.3253058 , -0.26549784,\n",
       "        0.19048334,  0.2095423 ,  0.1408585 ,  0.20271328, -0.04290546,\n",
       "        0.18268642,  0.25287061, -0.38782282, -0.29773686, -0.34160608,\n",
       "       -0.14689196, -0.04064971, -0.15386851, -0.17385714,  0.07986971,\n",
       "       -0.09412457,  0.12119223, -0.23822599, -0.36242628, -0.11220343,\n",
       "       -0.260293  ,  0.2833476 ,  0.21454739,  0.09282469, -0.01046756,\n",
       "        0.06666917,  0.24280863,  0.15466641,  0.09669641, -0.00775935,\n",
       "        0.13074573, -0.12962444, -0.03849507, -0.10340235, -0.17892823,\n",
       "       -0.07980246, -0.16335809, -0.074204  ,  0.65213713,  0.12126741,\n",
       "       -0.12021817, -0.15473435, -0.01958414,  0.38536906,  0.14380849,\n",
       "       -0.27668198, -0.03723736,  0.27519513,  0.01372582, -0.08387972,\n",
       "       -0.12112557, -0.09238582, -0.20491195, -0.00715076, -0.12563876,\n",
       "        0.1050658 , -0.15070471,  0.25661151,  0.04522048,  0.26429391,\n",
       "       -0.00653616, -0.39736285, -0.14239942, -0.40495133, -0.29862771,\n",
       "       -0.00360561, -0.06463491, -0.08532548, -0.27502938,  0.15780581,\n",
       "       -0.03399472,  0.14999042, -0.02997432, -0.01484854,  0.02354512,\n",
       "       -0.07097961, -0.28944164,  0.21196292,  0.01073637,  0.00390187,\n",
       "        0.46695997, -0.04407596, -0.13161234, -0.12153512,  0.2990303 ,\n",
       "        0.13368086,  0.3957325 ,  0.36009829, -0.33186045, -0.01360135,\n",
       "       -0.15447608, -0.19312956, -0.07099281,  0.08294345,  0.26581885,\n",
       "        0.12466735,  0.07243863,  0.15294392,  0.06833314, -0.16047859,\n",
       "       -0.15656048,  0.16716971, -0.14182974,  0.06649342, -0.28266126,\n",
       "        0.19059739,  0.1658929 ,  0.01553712,  0.00597886, -0.2434356 ,\n",
       "        0.241165  ,  0.02184805, -0.02707473, -0.08989577,  0.05619598,\n",
       "       -0.24744575,  0.00975099,  0.12728691,  0.0224868 , -0.22315156,\n",
       "       -0.13372928, -0.11645644, -0.26588831,  0.12914054, -0.15874108,\n",
       "       -0.19468942, -0.0806858 , -0.11132179,  0.16408539, -0.03819901,\n",
       "       -0.00850021,  0.23299053, -0.05371371,  0.19884062, -0.302293  ,\n",
       "       -0.09890151,  0.02990031,  0.1574927 , -0.25733569,  0.05682822,\n",
       "       -0.11035594,  0.07828791, -0.05076076,  0.12146129, -0.12315939,\n",
       "       -0.0039588 ,  0.29169188, -0.19529194,  0.06116038, -0.17900519,\n",
       "       -0.05125515,  0.41781837,  0.05781198,  0.05924154,  0.1146321 ,\n",
       "       -0.04033075, -0.02150511,  0.08792606, -0.09767433,  0.0890558 ,\n",
       "       -0.04448024, -0.08521727,  0.1730843 , -0.12809413, -0.00696767,\n",
       "       -0.16491904,  0.11437923, -0.20007908, -0.14524249,  0.07056496,\n",
       "        0.08174505,  0.03044953, -0.25873092, -0.28803023, -0.00840526,\n",
       "        0.05363286, -0.05554383,  0.13320602,  0.09429332, -0.02703145,\n",
       "        0.17174539,  0.2233747 ,  0.07637827, -0.02527369,  0.25505922,\n",
       "       -0.0419413 , -0.08209341, -0.07600681, -0.00996832, -0.05525261,\n",
       "       -0.5032641 , -0.25740746,  0.13182385,  0.07404178, -0.14054333,\n",
       "        0.00068675, -0.18868233, -0.11354198,  0.06409775,  0.05435446,\n",
       "        0.05377928,  0.03500363,  0.03253773, -0.33434806,  0.21608524,\n",
       "        0.01969748,  0.19997656, -0.12814698, -0.03196606,  0.03864809,\n",
       "       -0.10902682, -0.13586834, -0.07718641, -0.25291985,  0.15748263,\n",
       "        0.10843479,  0.07092821, -0.08621991,  0.05903874, -0.12770816,\n",
       "       -0.28089054,  0.37702478, -0.08974475,  0.04298225, -0.24798595,\n",
       "        0.40015459, -0.28955897,  0.03368407, -0.41798954, -0.34495113])"
      ]
     },
     "execution_count": 10,
     "metadata": {},
     "output_type": "execute_result"
    }
   ],
   "source": [
    "np.random.normal(0.0, 0.2, 1000)"
   ]
  },
  {
   "cell_type": "code",
   "execution_count": 11,
   "metadata": {},
   "outputs": [
    {
     "data": {
      "text/plain": [
       "(array([2.700e+01, 2.410e+02, 9.550e+02, 2.361e+03, 3.145e+03, 2.201e+03,\n",
       "        8.660e+02, 1.770e+02, 2.600e+01, 1.000e+00]),\n",
       " array([-0.70585262, -0.54753001, -0.3892074 , -0.23088478, -0.07256217,\n",
       "         0.08576044,  0.24408305,  0.40240566,  0.56072827,  0.71905088,\n",
       "         0.87737349]),\n",
       " <a list of 10 Patch objects>)"
      ]
     },
     "execution_count": 11,
     "metadata": {},
     "output_type": "execute_result"
    },
    {
     "data": {
      "image/png": "[encoded data removed]",
      "text/plain": [
       "<Figure size 432x288 with 1 Axes>"
      ]
     },
     "metadata": {
      "needs_background": "light"
     },
     "output_type": "display_data"
    }
   ],
   "source": [
    "x = np.random.normal(0.0, 0.2, 10000)\n",
    "plt.hist(x)"
   ]
  },
  {
   "cell_type": "markdown",
   "metadata": {},
   "source": [
    "Contrary to the Uniform distribution, the normal distribution is a bell shaved curved.\n",
    "We can see that hightest number of random numbers is centred around 0 (mean) and the huge proportion of the values between .6 and -.6. \n",
    "\n",
    "On a graph, changing the mean shifts the entire curve left or right on the X-axis. If I change the mean to 10, the highest number of random numbers is centred around the 10 and roughly 90% of the numbers will be centred from 9.5 to 10.5:"
   ]
  },
  {
   "cell_type": "code",
   "execution_count": 12,
   "metadata": {},
   "outputs": [
    {
     "data": {
      "text/plain": [
       "(array([  11.,   88.,  480., 1350., 2476., 2661., 1888.,  810.,  197.,\n",
       "          39.]),\n",
       " array([ 9.24857496,  9.39220497,  9.53583498,  9.67946499,  9.823095  ,\n",
       "         9.96672501, 10.11035503, 10.25398504, 10.39761505, 10.54124506,\n",
       "        10.68487507]),\n",
       " <a list of 10 Patch objects>)"
      ]
     },
     "execution_count": 12,
     "metadata": {},
     "output_type": "execute_result"
    },
    {
     "data": {
      "image/png": "[encoded data removed]",
      "text/plain": [
       "<Figure size 432x288 with 1 Axes>"
      ]
     },
     "metadata": {
      "needs_background": "light"
     },
     "output_type": "display_data"
    }
   ],
   "source": [
    "x = np.random.normal(10, 0.2, 10000)\n",
    "plt.hist(x)"
   ]
  },
  {
   "cell_type": "markdown",
   "metadata": {},
   "source": [
    "Lets check the standard deviation as it defines the width of the normal distribution (it determines how far away from the mean the values tend to fall). \n",
    "Changing the standard deviation either tightens or spreads out the width of the distribution along the X-axis. Larger standard deviations produce distributions that are more spread out.\n",
    "If I change the spread to 100, the majority of the numbers are centred around -300 and +300, as shown on the histogram below. \n"
   ]
  },
  {
   "cell_type": "code",
   "execution_count": 13,
   "metadata": {},
   "outputs": [
    {
     "data": {
      "text/plain": [
       "(array([  12.,  106.,  565., 1725., 2977., 2670., 1454.,  407.,   77.,\n",
       "           7.]),\n",
       " array([-378.89467792, -299.39645782, -219.89823772, -140.40001761,\n",
       "         -60.90179751,   18.59642259,   98.0946427 ,  177.5928628 ,\n",
       "         257.0910829 ,  336.58930301,  416.08752311]),\n",
       " <a list of 10 Patch objects>)"
      ]
     },
     "execution_count": 13,
     "metadata": {},
     "output_type": "execute_result"
    },
    {
     "data": {
      "image/png": "[encoded data removed]",
      "text/plain": [
       "<Figure size 432x288 with 1 Axes>"
      ]
     },
     "metadata": {
      "needs_background": "light"
     },
     "output_type": "display_data"
    }
   ],
   "source": [
    "x = np.random.normal(10, 100, 10000)\n",
    "plt.hist(x)"
   ]
  },
  {
   "cell_type": "markdown",
   "metadata": {},
   "source": [
    "If size in the function is set to None and loc and scale are provided, a single value is returned:"
   ]
  },
  {
   "cell_type": "code",
   "execution_count": 22,
   "metadata": {},
   "outputs": [
    {
     "data": {
      "text/plain": [
       "-0.7001496613210806"
      ]
     },
     "execution_count": 22,
     "metadata": {},
     "output_type": "execute_result"
    }
   ],
   "source": [
    "np.random.normal(0, 1)"
   ]
  },
  {
   "cell_type": "markdown",
   "metadata": {},
   "source": [
    "We can verify the mean and standard deviation.\n",
    "Lets set the values of mean and standard deviation to 1 and 0.1 and set the number of samples to 500.   "
   ]
  },
  {
   "cell_type": "code",
   "execution_count": 27,
   "metadata": {},
   "outputs": [
    {
     "data": {
      "text/plain": [
       "True"
      ]
     },
     "execution_count": 27,
     "metadata": {},
     "output_type": "execute_result"
    }
   ],
   "source": [
    "mn, std = 1, 0.1 # setting values for mean and standard deviation\n",
    "s = np.random.normal(mn, std, 500) # setting the samples to 500\n",
    "abs(mn - np.mean(s)) < 0.05 # verifying the mean\n",
    "abs(0.1- np.std(s, ddof=1)) < 0.01 # verifying the variance"
   ]
  },
  {
   "cell_type": "markdown",
   "metadata": {},
   "source": [
    "Next lets display the histogram of the samples, along with the probability density function:"
   ]
  },
  {
   "cell_type": "code",
   "execution_count": 29,
   "metadata": {},
   "outputs": [
    {
     "data": {
      "image/png": "[encoded data removed]",
      "text/plain": [
       "<Figure size 432x288 with 1 Axes>"
      ]
     },
     "metadata": {
      "needs_background": "light"
     },
     "output_type": "display_data"
    }
   ],
   "source": [
    "import matplotlib.pyplot as plt\n",
    "count, bins, ignored = plt.hist(s, 30, density=True)\n",
    "plt.plot(bins, 1/(0.1 * np.sqrt(2 * np.pi)) *\n",
    "               np.exp( - (bins - mn)**2 / (2 * std**2) ),\n",
    "         linewidth=2, color='r')\n",
    "plt.show()"
   ]
  },
  {
   "cell_type": "markdown",
   "metadata": {},
   "source": [
    "The majority of the numbers are centred from 0.8 to 1.2."
   ]
  },
  {
   "cell_type": "markdown",
   "metadata": {},
   "source": [
    "### BINOMIAL DISTRIBUTION\n",
    "\n",
    "*numpy.random.binomial(n, p, size=None)*\n",
    "\n",
    "The binomial distribution is a discrete distribution to calculate probability of success that an event occurs a certain number of times in a set number of trials. \n",
    "The n in number of trials we perform the experiment (>= 0), p is probability of success (in the interval [0,1] - can be entered as a float but will be trunctuated into integer).\n",
    "The binomial distribution is useful to analyse data when there are are only two possible outcomes.\n",
    "\n",
    "Lets draw samples from a binomial distribution.\n",
    "\n",
    "Suppose we want to determine how likely it is to roll a 6 when we roll the dice ten times. The experiment will be repeated 100 times. "
   ]
  },
  {
   "cell_type": "code",
   "execution_count": 112,
   "metadata": {},
   "outputs": [
    {
     "data": {
      "text/plain": [
       "(array([0., 0., 0., 0., 0., 1., 0., 0., 0., 0.]),\n",
       " array([0.5, 0.6, 0.7, 0.8, 0.9, 1. , 1.1, 1.2, 1.3, 1.4, 1.5]),\n",
       " <a list of 10 Patch objects>)"
      ]
     },
     "execution_count": 112,
     "metadata": {},
     "output_type": "execute_result"
    },
    {
     "data": {
      "image/png": "[encoded data removed]",
      "text/plain": [
       "<Figure size 432x288 with 1 Axes>"
      ]
     },
     "metadata": {
      "needs_background": "light"
     },
     "output_type": "display_data"
    }
   ],
   "source": [
    "n, p = 10, 0.1667 # 10 trials, probability of each number (from 1 to 6) is 0.1667 as 1:6 = 0.1667\n",
    "s = np.random.binomial(n, p)\n",
    "plt.hist(s)"
   ]
  },
  {
   "cell_type": "markdown",
   "metadata": {},
   "source": [
    "There is high probability of getting the 6 one time during the 10 trials.\n",
    "\n",
    "If the 10 trials are repeated 100 times"
   ]
  },
  {
   "cell_type": "code",
   "execution_count": 125,
   "metadata": {},
   "outputs": [
    {
     "data": {
      "text/plain": [
       "(array([19.,  0., 26.,  0., 35.,  0., 13.,  0.,  3.,  4.]),\n",
       " array([0. , 0.5, 1. , 1.5, 2. , 2.5, 3. , 3.5, 4. , 4.5, 5. ]),\n",
       " <a list of 10 Patch objects>)"
      ]
     },
     "execution_count": 125,
     "metadata": {},
     "output_type": "execute_result"
    },
    {
     "data": {
      "image/png": "[encoded data removed]",
      "text/plain": [
       "<Figure size 432x288 with 1 Axes>"
      ]
     },
     "metadata": {
      "needs_background": "light"
     },
     "output_type": "display_data"
    }
   ],
   "source": [
    "n, p = 10, 0.1667 \n",
    "s = np.random.binomial(10, 0.1667, 100)\n",
    "plt.hist(s)"
   ]
  },
  {
   "cell_type": "markdown",
   "metadata": {},
   "source": [
    "The probability of getting 6 with the trial of 10 rolls repeated 100 times increases to 4."
   ]
  },
  {
   "cell_type": "markdown",
   "metadata": {},
   "source": [
    "Anothes example to use the function is tossing the coin and checking how probable is getting the head. In the test below the coin is thrown 100 times and the same action is repeated by 10 people"
   ]
  },
  {
   "cell_type": "code",
   "execution_count": 126,
   "metadata": {},
   "outputs": [
    {
     "data": {
      "text/plain": [
       "(array([1., 0., 4., 0., 2., 1., 0., 1., 0., 1.]),\n",
       " array([44. , 45.4, 46.8, 48.2, 49.6, 51. , 52.4, 53.8, 55.2, 56.6, 58. ]),\n",
       " <a list of 10 Patch objects>)"
      ]
     },
     "execution_count": 126,
     "metadata": {},
     "output_type": "execute_result"
    },
    {
     "data": {
      "image/png": "[encoded data removed]",
      "text/plain": [
       "<Figure size 432x288 with 1 Axes>"
      ]
     },
     "metadata": {
      "needs_background": "light"
     },
     "output_type": "display_data"
    }
   ],
   "source": [
    "n, p = 100, .5  # number of trials is set to 100, probability of each trial\n",
    "s = np.random.binomial(n, p, 10)\n",
    "plt.hist(s)"
   ]
  },
  {
   "cell_type": "markdown",
   "metadata": {},
   "source": [
    "The example indicates that 4 people got 47 heads, 2 people got 50 heads, 1 person got respectivele 44, 50, 52 and 57 heads."
   ]
  },
  {
   "cell_type": "markdown",
   "metadata": {},
   "source": [
    "References:\n",
    "https://docs.scipy.org/doc/numpy-1.15.0/reference/generated/numpy.random.binomial.html#numpy.random.binomial\n",
    "Jim Frost: Maximize the Value of Your Binary Data with the Binomial and Other Probability Distributions: https://statisticsbyjim.com/basics/binary-data-binomial-distribution/"
   ]
  },
  {
   "cell_type": "markdown",
   "metadata": {},
   "source": [
    "### POISSON DISTRIBUTION\n",
    "*numpy.random.poisson(lam=1.0, size=None)*\n",
    "\n",
    "The Poisson distribution is a discrete probability distribution that models the count of events or characteristics over a constant observation space. Values must be integers that are greater than or equal to zero. \n",
    "\n",
    "lam : float or array_like of floats\n",
    "lam : float or array_like of floats\n",
    "Expectation of interval, should be >= 0. A sequence of expectation intervals must be broadcastable over the requested size.\n",
    "\n",
    "Expectation of interval, should be >= 0. A sequence of expectation intervals must be broadcastable over the requested size.\n",
    "For example, the number of sales per day in a store can follow the Poisson distribution. In such case the distribution can be used to make prediction\n",
    "Lets draw sample (s) of the distribution:"
   ]
  },
  {
   "cell_type": "code",
   "execution_count": 35,
   "metadata": {},
   "outputs": [
    {
     "data": {
      "text/plain": [
       "array([1, 7, 7, 8, 2, 4, 5, 7, 7, 7])"
      ]
     },
     "execution_count": 35,
     "metadata": {},
     "output_type": "execute_result"
    }
   ],
   "source": [
    "import numpy as np\n",
    "s = np.random.poisson(5, 10)\n",
    "s"
   ]
  },
  {
   "cell_type": "code",
   "execution_count": 36,
   "metadata": {},
   "outputs": [
    {
     "data": {
      "image/png": "[encoded data removed]",
      "text/plain": [
       "<Figure size 432x288 with 1 Axes>"
      ]
     },
     "metadata": {
      "needs_background": "light"
     },
     "output_type": "display_data"
    }
   ],
   "source": [
    "import matplotlib.pyplot as plt\n",
    "count, bins, ignored = plt.hist(s, 10, density=True)\n",
    "plt.show()"
   ]
  },
  {
   "cell_type": "code",
   "execution_count": 38,
   "metadata": {},
   "outputs": [
    {
     "data": {
      "text/plain": [
       "array([[112, 538],\n",
       "       [102, 502],\n",
       "       [108, 495],\n",
       "       [ 78, 525],\n",
       "       [103, 458],\n",
       "       [ 97, 456],\n",
       "       [ 97, 476],\n",
       "       [124, 490],\n",
       "       [101, 527],\n",
       "       [ 90, 472],\n",
       "       [108, 561],\n",
       "       [105, 496],\n",
       "       [113, 505],\n",
       "       [113, 489],\n",
       "       [ 99, 460],\n",
       "       [115, 514],\n",
       "       [103, 474],\n",
       "       [104, 471],\n",
       "       [100, 479],\n",
       "       [ 97, 554],\n",
       "       [100, 470],\n",
       "       [103, 517],\n",
       "       [111, 511],\n",
       "       [ 93, 532],\n",
       "       [105, 509],\n",
       "       [102, 455],\n",
       "       [109, 490],\n",
       "       [ 91, 476],\n",
       "       [ 96, 477],\n",
       "       [100, 489],\n",
       "       [104, 489],\n",
       "       [109, 507],\n",
       "       [113, 514],\n",
       "       [ 93, 499],\n",
       "       [ 98, 522],\n",
       "       [ 93, 528],\n",
       "       [ 98, 498],\n",
       "       [117, 512],\n",
       "       [ 92, 530],\n",
       "       [106, 494],\n",
       "       [100, 493],\n",
       "       [ 80, 524],\n",
       "       [ 94, 506],\n",
       "       [112, 532],\n",
       "       [ 96, 484],\n",
       "       [111, 482],\n",
       "       [ 96, 541],\n",
       "       [103, 537],\n",
       "       [ 81, 516],\n",
       "       [103, 495],\n",
       "       [103, 524],\n",
       "       [101, 462],\n",
       "       [104, 509],\n",
       "       [ 87, 472],\n",
       "       [ 87, 476],\n",
       "       [ 93, 501],\n",
       "       [ 84, 562],\n",
       "       [ 99, 485],\n",
       "       [111, 465],\n",
       "       [113, 517],\n",
       "       [ 87, 479],\n",
       "       [ 95, 508],\n",
       "       [ 98, 533],\n",
       "       [ 88, 496],\n",
       "       [ 98, 474],\n",
       "       [ 89, 483],\n",
       "       [ 89, 473],\n",
       "       [107, 501],\n",
       "       [ 95, 506],\n",
       "       [107, 495],\n",
       "       [ 94, 473],\n",
       "       [113, 512],\n",
       "       [109, 487],\n",
       "       [104, 469],\n",
       "       [109, 493],\n",
       "       [104, 477],\n",
       "       [ 92, 494],\n",
       "       [ 99, 505],\n",
       "       [ 88, 507],\n",
       "       [ 83, 503],\n",
       "       [128, 469],\n",
       "       [ 82, 500],\n",
       "       [ 99, 530],\n",
       "       [121, 479],\n",
       "       [124, 489],\n",
       "       [ 94, 500],\n",
       "       [ 91, 491],\n",
       "       [112, 476],\n",
       "       [ 99, 527],\n",
       "       [ 94, 480],\n",
       "       [ 88, 459],\n",
       "       [ 99, 477],\n",
       "       [ 88, 488],\n",
       "       [ 98, 490],\n",
       "       [110, 483],\n",
       "       [104, 489],\n",
       "       [102, 504],\n",
       "       [ 99, 494],\n",
       "       [118, 494],\n",
       "       [123, 489]])"
      ]
     },
     "execution_count": 38,
     "metadata": {},
     "output_type": "execute_result"
    }
   ],
   "source": [
    "s = np.random.poisson(lam=(100., 500.), size=(100, 2))\n",
    "s"
   ]
  },
  {
   "cell_type": "markdown",
   "metadata": {},
   "source": [
    "**References**:\n",
    "    \n",
    "- SciPy Docs: https://docs.scipy.org/doc/numpy-1.15.0/reference/generated/numpy.random.binomial.html\n",
    "- Jim Frost: Maximize the Value of Your Binary Data with the Binomial and Other Probability Distributions: https://statisticsbyjim.com/basics/binary-data-binomial-distribution/\n",
    "- Jim Frost: Understanding Probability Distributions https://statisticsbyjim.com/basics/probability-distributions/\n",
    "- Wikipedia:\n",
    "- Fun with the Binomial Distribution https://towardsdatascience.com/fun-with-the-binomial-distribution-96a5ecabf65b"
   ]
  },
  {
   "cell_type": "code",
   "execution_count": null,
   "metadata": {},
   "outputs": [],
   "source": []
  }
 ],
 "metadata": {
  "kernelspec": {
   "display_name": "Python 3",
   "language": "python",
   "name": "python3"
  },
  "language_info": {
   "codemirror_mode": {
    "name": "ipython",
    "version": 3
   },
   "file_extension": ".py",
   "mimetype": "text/x-python",
   "name": "python",
   "nbconvert_exporter": "python",
   "pygments_lexer": "ipython3",
   "version": "3.7.3"
  }
 },
 "nbformat": 4,
 "nbformat_minor": 2
}
