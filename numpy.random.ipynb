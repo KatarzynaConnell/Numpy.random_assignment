{
 "cells": [
  {
   "cell_type": "markdown",
   "metadata": {},
   "source": [
    "# The numpy.random package"
   ]
  },
  {
   "cell_type": "markdown",
   "metadata": {},
   "source": [
    "## Lets have a look at numpy random package and some of its functions"
   ]
  },
  {
   "cell_type": "code",
   "execution_count": 2,
   "metadata": {},
   "outputs": [],
   "source": [
    "import numpy as np\n",
    "import matplotlib.pyplot as plt"
   ]
  },
  {
   "cell_type": "code",
   "execution_count": null,
   "metadata": {},
   "outputs": [],
   "source": [
    "%matplotlib inline"
   ]
  },
  {
   "cell_type": "code",
   "execution_count": 39,
   "metadata": {
    "scrolled": true
   },
   "outputs": [],
   "source": [
    "x = np.random.rand(2, 4, 3)   #generate random number in a multidimensional array for example 2 raws, 4 columns, 3 depth). \n",
    "# Usually we only use 2-dimensional arrays.\n",
    "# [0, 1) is an interval -random numbers will be b-n 0 (inclusive) and 1 (not incluesive)"
   ]
  },
  {
   "cell_type": "code",
   "execution_count": 40,
   "metadata": {},
   "outputs": [
    {
     "data": {
      "text/plain": [
       "array([[[0.61673546, 0.08897385, 0.93223597],\n",
       "        [0.99695407, 0.26145585, 0.69134682],\n",
       "        [0.84991925, 0.96549955, 0.5648764 ],\n",
       "        [0.63601612, 0.89029135, 0.05182398]],\n",
       "\n",
       "       [[0.73857359, 0.03143939, 0.17312409],\n",
       "        [0.73238308, 0.65161553, 0.99617833],\n",
       "        [0.99447882, 0.3805085 , 0.15848727],\n",
       "        [0.99272153, 0.32294806, 0.46426922]]])"
      ]
     },
     "execution_count": 40,
     "metadata": {},
     "output_type": "execute_result"
    }
   ],
   "source": [
    "x"
   ]
  },
  {
   "cell_type": "code",
   "execution_count": 9,
   "metadata": {},
   "outputs": [],
   "source": [
    "# Lets look at how this random function generates random numbers:"
   ]
  },
  {
   "cell_type": "code",
   "execution_count": 37,
   "metadata": {},
   "outputs": [],
   "source": [
    "x = np.random.rand(10000)"
   ]
  },
  {
   "cell_type": "code",
   "execution_count": 38,
   "metadata": {},
   "outputs": [
    {
     "data": {
      "text/plain": [
       "array([0.79084008, 0.18315427, 0.52672983, ..., 0.12373593, 0.51418455,\n",
       "       0.34388812])"
      ]
     },
     "execution_count": 38,
     "metadata": {},
     "output_type": "execute_result"
    }
   ],
   "source": [
    "x"
   ]
  },
  {
   "cell_type": "code",
   "execution_count": 10,
   "metadata": {},
   "outputs": [],
   "source": [
    "import matplotlib.pyplot as plt"
   ]
  },
  {
   "cell_type": "code",
   "execution_count": 16,
   "metadata": {},
   "outputs": [
    {
     "data": {
      "text/plain": [
       "(array([ 964., 1004.,  984., 1018.,  988., 1045.,  974., 1009., 1000.,\n",
       "        1014.]),\n",
       " array([9.47719015e-05, 1.00078999e-01, 2.00063226e-01, 3.00047453e-01,\n",
       "        4.00031680e-01, 5.00015907e-01, 6.00000134e-01, 6.99984361e-01,\n",
       "        7.99968588e-01, 8.99952815e-01, 9.99937042e-01]),\n",
       " <a list of 10 Patch objects>)"
      ]
     },
     "execution_count": 16,
     "metadata": {},
     "output_type": "execute_result"
    },
    {
     "data": {
      "image/png": "[encoded data removed]",
      "text/plain": [
       "<Figure size 432x288 with 1 Axes>"
      ]
     },
     "metadata": {
      "needs_background": "light"
     },
     "output_type": "display_data"
    }
   ],
   "source": [
    "plt.hist(x)"
   ]
  },
  {
   "cell_type": "code",
   "execution_count": 19,
   "metadata": {},
   "outputs": [
    {
     "data": {
      "text/plain": [
       "array([-0.3735866 , -0.435615  , -0.801008  , -0.60507107, -0.54247921,\n",
       "       -0.36329885, -0.56070821, -0.17791033, -0.55403821, -0.64567953])"
      ]
     },
     "execution_count": 19,
     "metadata": {},
     "output_type": "execute_result"
    }
   ],
   "source": [
    "np.random.uniform(10,9,10) # first number is a lower boundry and second number is the upper boundry Random function the 1000 mean"
   ]
  },
  {
   "cell_type": "code",
   "execution_count": 20,
   "metadata": {},
   "outputs": [
    {
     "data": {
      "text/plain": [
       "(array([ 964., 1004.,  984., 1018.,  988., 1045.,  974., 1009., 1000.,\n",
       "        1014.]),\n",
       " array([9.47719015e-05, 1.00078999e-01, 2.00063226e-01, 3.00047453e-01,\n",
       "        4.00031680e-01, 5.00015907e-01, 6.00000134e-01, 6.99984361e-01,\n",
       "        7.99968588e-01, 8.99952815e-01, 9.99937042e-01]),\n",
       " <a list of 10 Patch objects>)"
      ]
     },
     "execution_count": 20,
     "metadata": {},
     "output_type": "execute_result"
    },
    {
     "data": {
      "image/png": "[encoded data removed]",
      "text/plain": [
       "<Figure size 432x288 with 1 Axes>"
      ]
     },
     "metadata": {
      "needs_background": "light"
     },
     "output_type": "display_data"
    }
   ],
   "source": [
    "plt.hist(x)"
   ]
  },
  {
   "cell_type": "code",
   "execution_count": 23,
   "metadata": {},
   "outputs": [],
   "source": [
    "x = np.random.normal(mu, sigma, 1000) # mean and standard deviation in the numpy.random.normal(loc=0.0, scale=1.0, size=None)"
   ]
  },
  {
   "cell_type": "code",
   "execution_count": 24,
   "metadata": {},
   "outputs": [
    {
     "data": {
      "text/plain": [
       "(array([  7.,  29.,  85., 166., 223., 234., 160.,  62.,  25.,   9.]),\n",
       " array([-0.30089586, -0.23984802, -0.17880017, -0.11775233, -0.05670448,\n",
       "         0.00434337,  0.06539121,  0.12643906,  0.18748691,  0.24853475,\n",
       "         0.3095826 ]),\n",
       " <a list of 10 Patch objects>)"
      ]
     },
     "execution_count": 24,
     "metadata": {},
     "output_type": "execute_result"
    },
    {
     "data": {
      "image/png": "[encoded data removed]",
      "text/plain": [
       "<Figure size 432x288 with 1 Axes>"
      ]
     },
     "metadata": {
      "needs_background": "light"
     },
     "output_type": "display_data"
    }
   ],
   "source": [
    "plt.hist(x) # bell shaved curved - number of generating number randomly with the value centred around 0"
   ]
  },
  {
   "cell_type": "code",
   "execution_count": null,
   "metadata": {},
   "outputs": [],
   "source": []
  }
 ],
 "metadata": {
  "kernelspec": {
   "display_name": "Python 3",
   "language": "python",
   "name": "python3"
  },
  "language_info": {
   "codemirror_mode": {
    "name": "ipython",
    "version": 3
   },
   "file_extension": ".py",
   "mimetype": "text/x-python",
   "name": "python",
   "nbconvert_exporter": "python",
   "pygments_lexer": "ipython3",
   "version": "3.7.3"
  }
 },
 "nbformat": 4,
 "nbformat_minor": 2
}
